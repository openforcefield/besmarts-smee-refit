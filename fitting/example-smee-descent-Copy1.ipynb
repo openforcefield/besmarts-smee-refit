{
 "cells": [
  {
   "cell_type": "code",
   "execution_count": 1,
   "id": "6174afb9-3482-44ff-ae57-b07708578e4f",
   "metadata": {
    "execution": {
     "iopub.execute_input": "2025-03-14T06:21:45.636604Z",
     "iopub.status.busy": "2025-03-14T06:21:45.636515Z",
     "iopub.status.idle": "2025-03-14T06:21:46.086322Z",
     "shell.execute_reply": "2025-03-14T06:21:46.086021Z",
     "shell.execute_reply.started": "2025-03-14T06:21:45.636593Z"
    }
   },
   "outputs": [],
   "source": [
    "import datasets\n",
    "import tqdm"
   ]
  },
  {
   "cell_type": "markdown",
   "id": "bc5ea831-a564-4178-939c-954935b44342",
   "metadata": {},
   "source": [
    "## Load dataset\n",
    "\n",
    "These are [Huggingface dataset](https://huggingface.co/docs/datasets/en/index) formats."
   ]
  },
  {
   "cell_type": "code",
   "execution_count": 2,
   "id": "715caceb-032b-48aa-8a8d-033a33945ac9",
   "metadata": {
    "execution": {
     "iopub.execute_input": "2025-03-14T06:21:46.086831Z",
     "iopub.status.busy": "2025-03-14T06:21:46.086625Z",
     "iopub.status.idle": "2025-03-14T06:21:46.823430Z",
     "shell.execute_reply": "2025-03-14T06:21:46.823133Z",
     "shell.execute_reply.started": "2025-03-14T06:21:46.086820Z"
    }
   },
   "outputs": [],
   "source": [
    "opt_dataset = datasets.Dataset.load_from_disk(\"../data/additional-optimizations/\")\n",
    "td_dataset = datasets.Dataset.load_from_disk(\"../data/additional-torsiondrives/\")"
   ]
  },
  {
   "cell_type": "markdown",
   "id": "43da44f8-cfb7-4bd9-866f-d72617fc5b5b",
   "metadata": {},
   "source": [
    "Datasets are represented with the features in each entry."
   ]
  },
  {
   "cell_type": "code",
   "execution_count": 3,
   "id": "ed09a7c1-b172-4ca5-ab7f-8654065d7d01",
   "metadata": {
    "execution": {
     "iopub.execute_input": "2025-03-14T06:21:46.823800Z",
     "iopub.status.busy": "2025-03-14T06:21:46.823708Z",
     "iopub.status.idle": "2025-03-14T06:21:46.827301Z",
     "shell.execute_reply": "2025-03-14T06:21:46.827006Z",
     "shell.execute_reply.started": "2025-03-14T06:21:46.823791Z"
    }
   },
   "outputs": [
    {
     "data": {
      "text/plain": [
       "Dataset({\n",
       "    features: ['smiles', 'coords', 'energy', 'forces'],\n",
       "    num_rows: 70\n",
       "})"
      ]
     },
     "execution_count": 3,
     "metadata": {},
     "output_type": "execute_result"
    }
   ],
   "source": [
    "opt_dataset"
   ]
  },
  {
   "cell_type": "markdown",
   "id": "e418e4d8-d018-4728-95cf-2503d9cd9764",
   "metadata": {},
   "source": [
    "Datasets can be indexed to get a single entry. \"coords\", \"forces\", etc. are stored as flat lists of floats."
   ]
  },
  {
   "cell_type": "code",
   "execution_count": 4,
   "id": "b7453ba5-3b00-4c71-99b5-e24b1024b24e",
   "metadata": {
    "execution": {
     "iopub.execute_input": "2025-03-14T06:21:46.827635Z",
     "iopub.status.busy": "2025-03-14T06:21:46.827544Z",
     "iopub.status.idle": "2025-03-14T06:21:46.838174Z",
     "shell.execute_reply": "2025-03-14T06:21:46.837828Z",
     "shell.execute_reply.started": "2025-03-14T06:21:46.827627Z"
    },
    "scrolled": true
   },
   "outputs": [
    {
     "data": {
      "text/plain": [
       "{'smiles': '[H:14][C:3]1=[C:2]([N:11]([N:10]=[C:4]1[C:5]23[C:6]([C:7]([C:8]2([H:18])[H:19])([C:9]3([H:20])[H:21])[H:17])([H:15])[H:16])[H:22])[N:1]([H:12])[H:13]',\n",
       " 'coords': tensor([-1.7365,  1.3097,  5.1288, -1.5198,  1.1527,  3.7460, -0.6614,  0.3525,\n",
       "          3.0057, -0.8821,  0.7326,  1.6502, -0.2310,  0.1866,  0.4400, -0.4846,\n",
       "          0.6215, -1.0329,  0.5960, -0.5005, -1.1146,  1.2970,  0.1879,  0.0944,\n",
       "         -0.2535, -1.2926, -0.0766, -1.8106,  1.6883,  1.5537, -2.1830,  1.9305,\n",
       "          2.8444, -1.0775,  0.7501,  5.6606, -2.6807,  1.0490,  5.4048,  0.0104,\n",
       "         -0.4076,  3.3820, -1.4734,  0.3898, -1.4397, -0.1691,  1.6355, -1.2960,\n",
       "          1.0740, -0.8972, -2.0142,  1.7470,  1.1697, -0.0845,  1.9392, -0.4433,\n",
       "          0.7182,  0.2762, -2.0313,  0.5348, -1.2254, -1.6684, -0.4125, -2.8092,\n",
       "          2.6975,  3.0476]),\n",
       " 'energy': tensor([-298509.5312]),\n",
       " 'forces': tensor([ 8.6516e-03,  9.9962e-03, -2.1068e-02, -6.0739e-02, -7.5098e-02,\n",
       "          1.4797e-02,  6.7018e-02,  6.8418e-02,  1.4632e-02, -1.8251e-02,\n",
       "         -5.5096e-02,  2.0181e-02, -4.5286e-02,  5.9464e-02, -4.5025e-02,\n",
       "         -3.8120e-03, -6.7527e-03,  5.1948e-03,  1.6964e-02, -1.8742e-02,\n",
       "          1.5958e-02, -9.8154e-04, -1.6078e-02,  1.2001e-02,  1.6961e-02,\n",
       "         -2.6534e-03,  1.7989e-02,  3.2499e-02,  1.3396e-02, -4.8353e-03,\n",
       "          1.0469e-02,  3.0785e-02,  2.6514e-02,  6.0428e-03,  2.9176e-05,\n",
       "         -1.7213e-03, -2.0643e-03,  1.7799e-03,  1.5479e-02, -2.1843e-02,\n",
       "         -2.0284e-02, -4.0345e-04, -2.1869e-03, -1.3649e-04,  1.3552e-03,\n",
       "         -1.5717e-03,  2.2467e-05,  3.2304e-04, -1.1443e-02,  1.3375e-02,\n",
       "         -6.7546e-03, -3.2093e-03,  8.2927e-04, -3.5246e-03, -1.2859e-03,\n",
       "          8.0877e-03,  9.0625e-03, -5.4872e-03,  1.4734e-04,  7.5003e-03,\n",
       "          9.4602e-04,  1.4462e-03, -1.9917e-03, -1.4763e-02, -1.5407e-02,\n",
       "         -3.4525e-03])}"
      ]
     },
     "execution_count": 4,
     "metadata": {},
     "output_type": "execute_result"
    }
   ],
   "source": [
    "opt_dataset[0]"
   ]
  },
  {
   "cell_type": "markdown",
   "id": "f54e044d-a9d0-4329-892f-1308c6744e47",
   "metadata": {},
   "source": [
    "We'll need to re-convert to PyTorch."
   ]
  },
  {
   "cell_type": "code",
   "execution_count": 5,
   "id": "54682f24-7d15-4708-ae8e-4ef47b2e4242",
   "metadata": {
    "execution": {
     "iopub.execute_input": "2025-03-14T06:21:46.838610Z",
     "iopub.status.busy": "2025-03-14T06:21:46.838498Z",
     "iopub.status.idle": "2025-03-14T06:21:46.843876Z",
     "shell.execute_reply": "2025-03-14T06:21:46.843582Z",
     "shell.execute_reply.started": "2025-03-14T06:21:46.838601Z"
    }
   },
   "outputs": [],
   "source": [
    "# reformat dataset lists to torch tensors\n",
    "opt_dataset.set_format(\n",
    "    \"torch\", columns=[\"energy\", \"coords\", \"forces\"], output_all_columns=True\n",
    ")\n",
    "td_dataset.set_format(\n",
    "    \"torch\", columns=[\"energy\", \"coords\", \"forces\"], output_all_columns=True\n",
    ")"
   ]
  },
  {
   "cell_type": "code",
   "execution_count": 6,
   "id": "a5b3a343-45de-42fc-8832-e7470ec97f69",
   "metadata": {
    "execution": {
     "iopub.execute_input": "2025-03-14T06:21:46.844918Z",
     "iopub.status.busy": "2025-03-14T06:21:46.844823Z",
     "iopub.status.idle": "2025-03-14T06:21:46.853007Z",
     "shell.execute_reply": "2025-03-14T06:21:46.852758Z",
     "shell.execute_reply.started": "2025-03-14T06:21:46.844910Z"
    },
    "scrolled": true
   },
   "outputs": [
    {
     "data": {
      "text/plain": [
       "{'coords': tensor([-1.7365,  1.3097,  5.1288, -1.5198,  1.1527,  3.7460, -0.6614,  0.3525,\n",
       "          3.0057, -0.8821,  0.7326,  1.6502, -0.2310,  0.1866,  0.4400, -0.4846,\n",
       "          0.6215, -1.0329,  0.5960, -0.5005, -1.1146,  1.2970,  0.1879,  0.0944,\n",
       "         -0.2535, -1.2926, -0.0766, -1.8106,  1.6883,  1.5537, -2.1830,  1.9305,\n",
       "          2.8444, -1.0775,  0.7501,  5.6606, -2.6807,  1.0490,  5.4048,  0.0104,\n",
       "         -0.4076,  3.3820, -1.4734,  0.3898, -1.4397, -0.1691,  1.6355, -1.2960,\n",
       "          1.0740, -0.8972, -2.0142,  1.7470,  1.1697, -0.0845,  1.9392, -0.4433,\n",
       "          0.7182,  0.2762, -2.0313,  0.5348, -1.2254, -1.6684, -0.4125, -2.8092,\n",
       "          2.6975,  3.0476]),\n",
       " 'energy': tensor([-298509.5312]),\n",
       " 'forces': tensor([ 8.6516e-03,  9.9962e-03, -2.1068e-02, -6.0739e-02, -7.5098e-02,\n",
       "          1.4797e-02,  6.7018e-02,  6.8418e-02,  1.4632e-02, -1.8251e-02,\n",
       "         -5.5096e-02,  2.0181e-02, -4.5286e-02,  5.9464e-02, -4.5025e-02,\n",
       "         -3.8120e-03, -6.7527e-03,  5.1948e-03,  1.6964e-02, -1.8742e-02,\n",
       "          1.5958e-02, -9.8154e-04, -1.6078e-02,  1.2001e-02,  1.6961e-02,\n",
       "         -2.6534e-03,  1.7989e-02,  3.2499e-02,  1.3396e-02, -4.8353e-03,\n",
       "          1.0469e-02,  3.0785e-02,  2.6514e-02,  6.0428e-03,  2.9176e-05,\n",
       "         -1.7213e-03, -2.0643e-03,  1.7799e-03,  1.5479e-02, -2.1843e-02,\n",
       "         -2.0284e-02, -4.0345e-04, -2.1869e-03, -1.3649e-04,  1.3552e-03,\n",
       "         -1.5717e-03,  2.2467e-05,  3.2304e-04, -1.1443e-02,  1.3375e-02,\n",
       "         -6.7546e-03, -3.2093e-03,  8.2927e-04, -3.5246e-03, -1.2859e-03,\n",
       "          8.0877e-03,  9.0625e-03, -5.4872e-03,  1.4734e-04,  7.5003e-03,\n",
       "          9.4602e-04,  1.4462e-03, -1.9917e-03, -1.4763e-02, -1.5407e-02,\n",
       "         -3.4525e-03]),\n",
       " 'smiles': '[H:14][C:3]1=[C:2]([N:11]([N:10]=[C:4]1[C:5]23[C:6]([C:7]([C:8]2([H:18])[H:19])([C:9]3([H:20])[H:21])[H:17])([H:15])[H:16])[H:22])[N:1]([H:12])[H:13]'}"
      ]
     },
     "execution_count": 6,
     "metadata": {},
     "output_type": "execute_result"
    }
   ],
   "source": [
    "opt_dataset[0]"
   ]
  },
  {
   "cell_type": "code",
   "execution_count": 7,
   "id": "edbca9dc-bafa-4ea8-a5f8-61a374fb9073",
   "metadata": {
    "execution": {
     "iopub.execute_input": "2025-03-14T06:21:46.853430Z",
     "iopub.status.busy": "2025-03-14T06:21:46.853305Z",
     "iopub.status.idle": "2025-03-14T06:21:46.859535Z",
     "shell.execute_reply": "2025-03-14T06:21:46.859208Z",
     "shell.execute_reply.started": "2025-03-14T06:21:46.853408Z"
    }
   },
   "outputs": [
    {
     "data": {
      "text/plain": [
       "70"
      ]
     },
     "execution_count": 7,
     "metadata": {},
     "output_type": "execute_result"
    }
   ],
   "source": [
    "len(opt_dataset)"
   ]
  },
  {
   "cell_type": "code",
   "execution_count": 8,
   "id": "336f5f39-49d2-4ab3-b6c7-73d470fbf7f6",
   "metadata": {
    "execution": {
     "iopub.execute_input": "2025-03-14T06:21:46.859915Z",
     "iopub.status.busy": "2025-03-14T06:21:46.859815Z",
     "iopub.status.idle": "2025-03-14T06:21:46.867908Z",
     "shell.execute_reply": "2025-03-14T06:21:46.867567Z",
     "shell.execute_reply.started": "2025-03-14T06:21:46.859905Z"
    }
   },
   "outputs": [
    {
     "data": {
      "text/plain": [
       "1584"
      ]
     },
     "execution_count": 8,
     "metadata": {},
     "output_type": "execute_result"
    }
   ],
   "source": [
    "len(td_dataset[0][\"coords\"])"
   ]
  },
  {
   "cell_type": "markdown",
   "id": "d61cbc05-6fdd-40ca-9773-a2241bfd5b80",
   "metadata": {},
   "source": [
    "## Fitting\n",
    "\n",
    "For how to fit a force field to optimization data from a SMIRNOFF force field, here's an [example I put together for the IRL Irvine meeting](https://openforcefield.atlassian.net/wiki/spaces/MEET/pages/3440508935/Hackathon+How+to+train+your+force+field+with+smee) (`run-smee-fit-from-qca-data-commented.ipynb` where you can largely follow on from the \"Assign parameters to molecules in the dataset\" heading.\n",
    "\n",
    "The only note is that the `descent.targets.energy.predict` function would have to be re-written to not include forces in the objective and prediction if they're not in the data."
   ]
  },
  {
   "cell_type": "code",
   "execution_count": 9,
   "id": "aa8c5da3-ff4a-49a5-ade4-8614f83573a2",
   "metadata": {
    "execution": {
     "iopub.execute_input": "2025-03-14T06:21:46.868306Z",
     "iopub.status.busy": "2025-03-14T06:21:46.868196Z",
     "iopub.status.idle": "2025-03-14T06:21:48.772923Z",
     "shell.execute_reply": "2025-03-14T06:21:48.772522Z",
     "shell.execute_reply.started": "2025-03-14T06:21:46.868296Z"
    }
   },
   "outputs": [],
   "source": [
    "from utils import ff_to_csys\n",
    "\n",
    "chemical_system = ff_to_csys(\"openff-2.2.1.offxml\")"
   ]
  },
  {
   "cell_type": "code",
   "execution_count": 10,
   "id": "afd9d8cc-e1ea-4904-975a-567449ef3827",
   "metadata": {
    "execution": {
     "iopub.execute_input": "2025-03-14T06:21:48.774412Z",
     "iopub.status.busy": "2025-03-14T06:21:48.774086Z",
     "iopub.status.idle": "2025-03-14T06:21:48.810649Z",
     "shell.execute_reply": "2025-03-14T06:21:48.810321Z",
     "shell.execute_reply.started": "2025-03-14T06:21:48.774396Z"
    },
    "scrolled": true
   },
   "outputs": [
    {
     "name": "stdout",
     "output_type": "stream",
     "text": [
      "Appending energies\n",
      "Appending energies\n",
      "Appending energies\n",
      "Appending energies\n",
      "Appending energies\n",
      "Appending energies\n",
      "Appending energies\n",
      "Appending energies\n",
      "Appending energies\n",
      "Appending energies\n",
      "Appending energies\n",
      "Appending energies\n",
      "Appending energies\n",
      "Appending energies\n",
      "Appending energies\n",
      "Appending energies\n",
      "Appending energies\n",
      "Appending energies\n",
      "Appending energies\n",
      "Appending energies\n",
      "Appending energies\n",
      "Appending energies\n",
      "Appending energies\n",
      "Appending energies\n",
      "Appending energies\n"
     ]
    }
   ],
   "source": [
    "from besmarts.core.assignments import graph_db as GraphDb\n",
    "from besmarts.core.assignments import graph_db_add_single_molecule_state\n",
    "from besmarts.core.assignments import graph_db_address as GraphDbAddress\n",
    "from besmarts.mechanics.fits import (\n",
    "    objective_config_energy_total as ObjectiveConfigEnergyTotal,\n",
    ")\n",
    "from besmarts.mechanics.fits import objective_config_gradient as ObjectiveConfigGradient\n",
    "from besmarts.mechanics.fits import objective_config_position as ObjectiveConfigPosition\n",
    "from besmarts.mechanics.fits import objective_tier as ObjectiveTier\n",
    "from utils import data_to_graph_assignment\n",
    "\n",
    "graph_db = GraphDb()\n",
    "eid = 0\n",
    "objectives = []\n",
    "n_entries = 1 # number of entries from each dataset to include, 0 for all\n",
    "\n",
    "# First, the optimizations\n",
    "for entry in list(opt_dataset)[:n_entries or len(opt_dataset)]:\n",
    "    smiles = entry[\"smiles\"]\n",
    "\n",
    "    # Create mappings between the data and the graph implied by the SMILES\n",
    "    positions = data_to_graph_assignment(\n",
    "        smiles=smiles,\n",
    "        data=entry[\"coords\"].reshape(-1, 3),\n",
    "    )\n",
    "    gradients=data_to_graph_assignment(\n",
    "        smiles=smiles,\n",
    "        data=entry[\"forces\"].reshape(-1, 3),\n",
    "    )\n",
    "    energy=entry[\"energy\"][0]\n",
    "\n",
    "    # Add the data to the graph\n",
    "    graph_db_add_single_molecule_state(\n",
    "        graph_db,\n",
    "        positions=positions,\n",
    "        gradients=gradients,\n",
    "        energy=energy,\n",
    "    )\n",
    "\n",
    "    # Create objectives using the data\n",
    "    objectives.extend([\n",
    "        ObjectiveConfigPosition(\n",
    "            GraphDbAddress(\n",
    "                eid=[eid],\n",
    "            ),\n",
    "            scale=100\n",
    "        ),\n",
    "        ObjectiveConfigGradient(\n",
    "            GraphDbAddress(\n",
    "                eid=[eid],\n",
    "            ),\n",
    "            scale=1e-5,\n",
    "        ),\n",
    "        ObjectiveConfigEnergyTotal(\n",
    "            GraphDbAddress(\n",
    "                eid=[eid],\n",
    "            ),\n",
    "            scale=1\n",
    "        ),\n",
    "    ])\n",
    "\n",
    "    # Increment the entry index into the graph\n",
    "    eid += 1\n",
    "\n",
    "# Next, the torsion drives\n",
    "for entry in list(td_dataset)[:n_entries or len(opt_dataset)]:\n",
    "    smiles = entry[\"smiles\"]\n",
    "\n",
    "    n_frames = len(entry[\"energy\"])\n",
    "\n",
    "    for coords, energy in zip(entry[\"coords\"].reshape(n_frames, -1, 3), entry[\"energy\"]):\n",
    "        positions = data_to_graph_assignment(\n",
    "            smiles=smiles,\n",
    "            data=coords,\n",
    "        )\n",
    "    \n",
    "    \n",
    "        graph_db_add_single_molecule_state(\n",
    "            graph_db,\n",
    "            positions=positions,\n",
    "            energy=energy,\n",
    "        )\n",
    "\n",
    "        objectives.append(\n",
    "            ObjectiveConfigEnergyTotal(\n",
    "                GraphDbAddress(\n",
    "                    eid=[eid],\n",
    "                ),\n",
    "                scale=1\n",
    "            )\n",
    "        )\n",
    "        \n",
    "        eid += 1\n",
    "\n",
    "objective_tier = ObjectiveTier()\n",
    "objective_tier.objectives = dict(enumerate(objectives))"
   ]
  },
  {
   "cell_type": "code",
   "execution_count": 11,
   "id": "8c55b2f8-1a5d-42b0-aa4d-cedcc6c9cd81",
   "metadata": {
    "execution": {
     "iopub.execute_input": "2025-03-14T06:21:48.811129Z",
     "iopub.status.busy": "2025-03-14T06:21:48.811006Z",
     "iopub.status.idle": "2025-03-14T06:21:52.292168Z",
     "shell.execute_reply": "2025-03-14T06:21:52.291873Z",
     "shell.execute_reply.started": "2025-03-14T06:21:48.811110Z"
    },
    "scrolled": true
   },
   "outputs": [
    {
     "name": "stdout",
     "output_type": "stream",
     "text": [
      "Warning, aromaticity set to OEAroModel_MDL with RDKit. Model set to RDKit MDL. Expect differences.\n",
      "[H:14][C:3]1=[C:2]([N:11]([N:10]=[C:4]1[C:5]23[C:6]([C:7]([C:8]2([H:18])[H:19])([C:9]3([H:20])[H:21])[H:17])([H:15])[H:16])[H:22])[N:1]([H:12])[H:13]\n",
      "Charges: [H:14][C:3]1=[C:2]([N:11]([N:10]=[C:4]1[C:5]23[C:6]([C:7]([C:8]2([H:18])[H:19])([C:9]3([H:20])[H:21])[H:17])([H:15])[H:16])[H:22])[N:1]([H:12])[H:13] [0.162, -0.3453, 0.0913, -0.0396, -0.5068, 0.3836, -0.1413, -0.0754, -0.1137, -0.0754, 0.0572, 0.0572, -0.0754, 0.0572, 0.0572, 0.0947, 0.0572, 0.0572, 0.3227, -0.7812, 0.3798, 0.3798]\n",
      "[H:6][C@:5]1([C:7]([C:8]([C:9]([N+:10]1([H:21])[H:22])([H:19])[H:20])([H:17])[H:18])([H:15])[H:16])[C:2](=[O:1])[N:3]([H:11])[C:4]([H:12])([H:13])[H:14]\n",
      "Charges: [H:6][C@:5]1([C:7]([C:8]([C:9]([N+:10]1([H:21])[H:22])([H:19])[H:20])([H:17])[H:18])([H:15])[H:16])[C:2](=[O:1])[N:3]([H:11])[C:4]([H:12])([H:13])[H:14] [0.1287, 0.0565, -0.0924, -0.0994, 0.1448, -0.803, 0.4568, 0.4568, 0.1062, 0.1062, 0.1007, 0.1007, 0.0962, 0.0962, 0.6281, -0.4951, -0.5679, 0.3095, 0.0693, 0.067033, 0.067033, 0.067033]\n",
      "[H:6][C@:5]1([C:7]([C:8]([C:9]([N+:10]1([H:21])[H:22])([H:19])[H:20])([H:17])[H:18])([H:15])[H:16])[C:2](=[O:1])[N:3]([H:11])[C:4]([H:12])([H:13])[H:14]\n",
      "Charges: [H:6][C@:5]1([C:7]([C:8]([C:9]([N+:10]1([H:21])[H:22])([H:19])[H:20])([H:17])[H:18])([H:15])[H:16])[C:2](=[O:1])[N:3]([H:11])[C:4]([H:12])([H:13])[H:14] [0.1287, 0.0565, -0.0904, -0.1004, 0.1428, -0.805, 0.4573, 0.4573, 0.1057, 0.1057, 0.1012, 0.1012, 0.0977, 0.0977, 0.6281, -0.4851, -0.5699, 0.3025, 0.0663, 0.0677, 0.0677, 0.0677]\n",
      "[H:6][C@:5]1([C:7]([C:8]([C:9]([N+:10]1([H:21])[H:22])([H:19])[H:20])([H:17])[H:18])([H:15])[H:16])[C:2](=[O:1])[N:3]([H:11])[C:4]([H:12])([H:13])[H:14]\n",
      "Charges: [H:6][C@:5]1([C:7]([C:8]([C:9]([N+:10]1([H:21])[H:22])([H:19])[H:20])([H:17])[H:18])([H:15])[H:16])[C:2](=[O:1])[N:3]([H:11])[C:4]([H:12])([H:13])[H:14] [0.1287, 0.0575, -0.0884, -0.1014, 0.1408, -0.806, 0.4578, 0.4578, 0.1052, 0.1052, 0.1007, 0.1007, 0.0992, 0.0992, 0.6291, -0.4831, -0.5689, 0.2955, 0.0653, 0.0677, 0.0677, 0.0677]\n",
      "[H:6][C@:5]1([C:7]([C:8]([C:9]([N+:10]1([H:21])[H:22])([H:19])[H:20])([H:17])[H:18])([H:15])[H:16])[C:2](=[O:1])[N:3]([H:11])[C:4]([H:12])([H:13])[H:14]\n",
      "Charges: [H:6][C@:5]1([C:7]([C:8]([C:9]([N+:10]1([H:21])[H:22])([H:19])[H:20])([H:17])[H:18])([H:15])[H:16])[C:2](=[O:1])[N:3]([H:11])[C:4]([H:12])([H:13])[H:14] [0.1347, 0.0585, -0.0884, -0.1034, 0.1418, -0.808, 0.4573, 0.4573, 0.1057, 0.1057, 0.0972, 0.0972, 0.1062, 0.1062, 0.6311, -0.4911, -0.5689, 0.2935, 0.0673, 0.0677, 0.0677, 0.0677]\n",
      "[H:6][C@:5]1([C:7]([C:8]([C:9]([N+:10]1([H:21])[H:22])([H:19])[H:20])([H:17])[H:18])([H:15])[H:16])[C:2](=[O:1])[N:3]([H:11])[C:4]([H:12])([H:13])[H:14]\n",
      "Charges: [H:6][C@:5]1([C:7]([C:8]([C:9]([N+:10]1([H:21])[H:22])([H:19])[H:20])([H:17])[H:18])([H:15])[H:16])[C:2](=[O:1])[N:3]([H:11])[C:4]([H:12])([H:13])[H:14] [0.1277, 0.0455, -0.0884, -0.1004, 0.1498, -0.804, 0.4503, 0.4503, 0.1042, 0.1042, 0.0997, 0.0997, 0.1062, 0.1062, 0.6451, -0.4991, -0.5649, 0.2915, 0.0713, 0.068033, 0.068033, 0.068033]\n",
      "[H:6][C@:5]1([C:7]([C:8]([C:9]([N+:10]1([H:21])[H:22])([H:19])[H:20])([H:17])[H:18])([H:15])[H:16])[C:2](=[O:1])[N:3]([H:11])[C:4]([H:12])([H:13])[H:14]\n",
      "Charges: [H:6][C@:5]1([C:7]([C:8]([C:9]([N+:10]1([H:21])[H:22])([H:19])[H:20])([H:17])[H:18])([H:15])[H:16])[C:2](=[O:1])[N:3]([H:11])[C:4]([H:12])([H:13])[H:14] [0.1237, 0.0485, -0.0854, -0.1024, 0.1508, -0.806, 0.4518, 0.4518, 0.1057, 0.1057, 0.0997, 0.0997, 0.1067, 0.1067, 0.6371, -0.4911, -0.5649, 0.2905, 0.0663, 0.068367, 0.068367, 0.068367]\n",
      "[H:6][C@:5]1([C:7]([C:8]([C:9]([N+:10]1([H:21])[H:22])([H:19])[H:20])([H:17])[H:18])([H:15])[H:16])[C:2](=[O:1])[N:3]([H:11])[C:4]([H:12])([H:13])[H:14]\n",
      "Charges: [H:6][C@:5]1([C:7]([C:8]([C:9]([N+:10]1([H:21])[H:22])([H:19])[H:20])([H:17])[H:18])([H:15])[H:16])[C:2](=[O:1])[N:3]([H:11])[C:4]([H:12])([H:13])[H:14] [0.1247, 0.0515, -0.0884, -0.1014, 0.1458, -0.805, 0.4558, 0.4558, 0.1052, 0.1052, 0.1012, 0.1012, 0.1077, 0.1077, 0.6251, -0.4861, -0.5689, 0.2925, 0.0633, 0.068367, 0.068367, 0.068367]\n",
      "[H:6][C@:5]1([C:7]([C:8]([C:9]([N+:10]1([H:21])[H:22])([H:19])[H:20])([H:17])[H:18])([H:15])[H:16])[C:2](=[O:1])[N:3]([H:11])[C:4]([H:12])([H:13])[H:14]\n",
      "Charges: [H:6][C@:5]1([C:7]([C:8]([C:9]([N+:10]1([H:21])[H:22])([H:19])[H:20])([H:17])[H:18])([H:15])[H:16])[C:2](=[O:1])[N:3]([H:11])[C:4]([H:12])([H:13])[H:14] [0.1267, 0.0595, -0.0934, -0.0994, 0.1448, -0.803, 0.4563, 0.4563, 0.1062, 0.1062, 0.1002, 0.1002, 0.0952, 0.0952, 0.6291, -0.5141, -0.5609, 0.3175, 0.0733, 0.067367, 0.067367, 0.067367]\n",
      "[H:6][C@:5]1([C:7]([C:8]([C:9]([N+:10]1([H:21])[H:22])([H:19])[H:20])([H:17])[H:18])([H:15])[H:16])[C:2](=[O:1])[N:3]([H:11])[C:4]([H:12])([H:13])[H:14]\n",
      "Charges: [H:6][C@:5]1([C:7]([C:8]([C:9]([N+:10]1([H:21])[H:22])([H:19])[H:20])([H:17])[H:18])([H:15])[H:16])[C:2](=[O:1])[N:3]([H:11])[C:4]([H:12])([H:13])[H:14] [0.1257, 0.0595, -0.0954, -0.0974, 0.1438, -0.801, 0.4578, 0.4578, 0.1062, 0.1062, 0.0992, 0.0992, 0.0947, 0.0947, 0.6321, -0.5381, -0.5519, 0.3255, 0.0783, 0.067367, 0.067367, 0.067367]\n",
      "[H:6][C@:5]1([C:7]([C:8]([C:9]([N+:10]1([H:21])[H:22])([H:19])[H:20])([H:17])[H:18])([H:15])[H:16])[C:2](=[O:1])[N:3]([H:11])[C:4]([H:12])([H:13])[H:14]\n",
      "Charges: [H:6][C@:5]1([C:7]([C:8]([C:9]([N+:10]1([H:21])[H:22])([H:19])[H:20])([H:17])[H:18])([H:15])[H:16])[C:2](=[O:1])[N:3]([H:11])[C:4]([H:12])([H:13])[H:14] [0.1327, 0.0655, -0.1004, -0.0994, 0.1358, -0.8, 0.4653, 0.4653, 0.1082, 0.1082, 0.0952, 0.0952, 0.0967, 0.0967, 0.6331, -0.5711, -0.5419, 0.3285, 0.0803, 0.068367, 0.068367, 0.068367]\n",
      "[H:6][C@:5]1([C:7]([C:8]([C:9]([N+:10]1([H:21])[H:22])([H:19])[H:20])([H:17])[H:18])([H:15])[H:16])[C:2](=[O:1])[N:3]([H:11])[C:4]([H:12])([H:13])[H:14]\n",
      "Charges: [H:6][C@:5]1([C:7]([C:8]([C:9]([N+:10]1([H:21])[H:22])([H:19])[H:20])([H:17])[H:18])([H:15])[H:16])[C:2](=[O:1])[N:3]([H:11])[C:4]([H:12])([H:13])[H:14] [0.1297, 0.0625, -0.0964, -0.0994, 0.1428, -0.808, 0.4678, 0.4678, 0.1067, 0.1067, 0.0962, 0.0962, 0.0962, 0.0962, 0.6401, -0.5921, -0.5329, 0.3305, 0.0803, 0.070033, 0.070033, 0.070033]\n",
      "[H:6][C@:5]1([C:7]([C:8]([C:9]([N+:10]1([H:21])[H:22])([H:19])[H:20])([H:17])[H:18])([H:15])[H:16])[C:2](=[O:1])[N:3]([H:11])[C:4]([H:12])([H:13])[H:14]\n",
      "Charges: [H:6][C@:5]1([C:7]([C:8]([C:9]([N+:10]1([H:21])[H:22])([H:19])[H:20])([H:17])[H:18])([H:15])[H:16])[C:2](=[O:1])[N:3]([H:11])[C:4]([H:12])([H:13])[H:14] [0.1277, 0.0555, -0.0924, -0.1004, 0.1448, -0.812, 0.4708, 0.4708, 0.1062, 0.1062, 0.0972, 0.0972, 0.0947, 0.0947, 0.6431, -0.6021, -0.5269, 0.3325, 0.0793, 0.071033, 0.071033, 0.071033]\n",
      "[H:6][C@:5]1([C:7]([C:8]([C:9]([N+:10]1([H:21])[H:22])([H:19])[H:20])([H:17])[H:18])([H:15])[H:16])[C:2](=[O:1])[N:3]([H:11])[C:4]([H:12])([H:13])[H:14]\n",
      "Charges: [H:6][C@:5]1([C:7]([C:8]([C:9]([N+:10]1([H:21])[H:22])([H:19])[H:20])([H:17])[H:18])([H:15])[H:16])[C:2](=[O:1])[N:3]([H:11])[C:4]([H:12])([H:13])[H:14] [0.1257, 0.0495, -0.0904, -0.1014, 0.1458, -0.816, 0.4733, 0.4733, 0.1057, 0.1057, 0.0982, 0.0982, 0.0937, 0.0937, 0.6441, -0.6041, -0.5239, 0.3335, 0.0793, 0.0717, 0.0717, 0.0717]\n",
      "[H:6][C@:5]1([C:7]([C:8]([C:9]([N+:10]1([H:21])[H:22])([H:19])[H:20])([H:17])[H:18])([H:15])[H:16])[C:2](=[O:1])[N:3]([H:11])[C:4]([H:12])([H:13])[H:14]\n",
      "Charges: [H:6][C@:5]1([C:7]([C:8]([C:9]([N+:10]1([H:21])[H:22])([H:19])[H:20])([H:17])[H:18])([H:15])[H:16])[C:2](=[O:1])[N:3]([H:11])[C:4]([H:12])([H:13])[H:14] [0.1217, 0.0555, -0.0884, -0.1004, 0.1478, -0.807, 0.4548, 0.4548, 0.1047, 0.1047, 0.1022, 0.1022, 0.1072, 0.1072, 0.6241, -0.4891, -0.5719, 0.2985, 0.0663, 0.0677, 0.0677, 0.0677]\n",
      "[H:6][C@:5]1([C:7]([C:8]([C:9]([N+:10]1([H:21])[H:22])([H:19])[H:20])([H:17])[H:18])([H:15])[H:16])[C:2](=[O:1])[N:3]([H:11])[C:4]([H:12])([H:13])[H:14]\n",
      "Charges: [H:6][C@:5]1([C:7]([C:8]([C:9]([N+:10]1([H:21])[H:22])([H:19])[H:20])([H:17])[H:18])([H:15])[H:16])[C:2](=[O:1])[N:3]([H:11])[C:4]([H:12])([H:13])[H:14] [0.1167, 0.0595, -0.0864, -0.0994, 0.1488, -0.807, 0.4533, 0.4533, 0.1037, 0.1037, 0.1042, 0.1042, 0.1057, 0.1057, 0.6241, -0.4971, -0.5719, 0.3055, 0.0693, 0.0677, 0.0677, 0.0677]\n",
      "[H:6][C@:5]1([C:7]([C:8]([C:9]([N+:10]1([H:21])[H:22])([H:19])[H:20])([H:17])[H:18])([H:15])[H:16])[C:2](=[O:1])[N:3]([H:11])[C:4]([H:12])([H:13])[H:14]\n",
      "Charges: [H:6][C@:5]1([C:7]([C:8]([C:9]([N+:10]1([H:21])[H:22])([H:19])[H:20])([H:17])[H:18])([H:15])[H:16])[C:2](=[O:1])[N:3]([H:11])[C:4]([H:12])([H:13])[H:14] [0.1127, 0.0625, -0.0854, -0.0984, 0.1488, -0.805, 0.4518, 0.4518, 0.1042, 0.1042, 0.1062, 0.1062, 0.1037, 0.1037, 0.6241, -0.5091, -0.5699, 0.3125, 0.0733, 0.067367, 0.067367, 0.067367]\n",
      "[H:6][C@:5]1([C:7]([C:8]([C:9]([N+:10]1([H:21])[H:22])([H:19])[H:20])([H:17])[H:18])([H:15])[H:16])[C:2](=[O:1])[N:3]([H:11])[C:4]([H:12])([H:13])[H:14]\n",
      "Charges: [H:6][C@:5]1([C:7]([C:8]([C:9]([N+:10]1([H:21])[H:22])([H:19])[H:20])([H:17])[H:18])([H:15])[H:16])[C:2](=[O:1])[N:3]([H:11])[C:4]([H:12])([H:13])[H:14] [0.1097, 0.0625, -0.0854, -0.0994, 0.1438, -0.8, 0.4523, 0.4523, 0.1052, 0.1052, 0.1057, 0.1057, 0.1022, 0.1022, 0.6241, -0.5281, -0.5619, 0.3205, 0.0783, 0.067367, 0.067367, 0.067367]\n",
      "[H:6][C@:5]1([C:7]([C:8]([C:9]([N+:10]1([H:21])[H:22])([H:19])[H:20])([H:17])[H:18])([H:15])[H:16])[C:2](=[O:1])[N:3]([H:11])[C:4]([H:12])([H:13])[H:14]\n",
      "Charges: [H:6][C@:5]1([C:7]([C:8]([C:9]([N+:10]1([H:21])[H:22])([H:19])[H:20])([H:17])[H:18])([H:15])[H:16])[C:2](=[O:1])[N:3]([H:11])[C:4]([H:12])([H:13])[H:14] [0.1107, 0.0505, -0.0844, -0.1014, 0.1428, -0.792, 0.4578, 0.4578, 0.1067, 0.1067, 0.1037, 0.1037, 0.1002, 0.1002, 0.6291, -0.5551, -0.5509, 0.3265, 0.0813, 0.068367, 0.068367, 0.068367]\n",
      "[H:6][C@:5]1([C:7]([C:8]([C:9]([N+:10]1([H:21])[H:22])([H:19])[H:20])([H:17])[H:18])([H:15])[H:16])[C:2](=[O:1])[N:3]([H:11])[C:4]([H:12])([H:13])[H:14]\n",
      "Charges: [H:6][C@:5]1([C:7]([C:8]([C:9]([N+:10]1([H:21])[H:22])([H:19])[H:20])([H:17])[H:18])([H:15])[H:16])[C:2](=[O:1])[N:3]([H:11])[C:4]([H:12])([H:13])[H:14] [0.1127, 0.0415, -0.0834, -0.1014, 0.1438, -0.79, 0.4633, 0.4633, 0.1062, 0.1062, 0.1037, 0.1037, 0.0977, 0.0977, 0.6351, -0.5811, -0.5399, 0.3305, 0.0813, 0.070033, 0.070033, 0.070033]\n",
      "[H:6][C@:5]1([C:7]([C:8]([C:9]([N+:10]1([H:21])[H:22])([H:19])[H:20])([H:17])[H:18])([H:15])[H:16])[C:2](=[O:1])[N:3]([H:11])[C:4]([H:12])([H:13])[H:14]\n",
      "Charges: [H:6][C@:5]1([C:7]([C:8]([C:9]([N+:10]1([H:21])[H:22])([H:19])[H:20])([H:17])[H:18])([H:15])[H:16])[C:2](=[O:1])[N:3]([H:11])[C:4]([H:12])([H:13])[H:14] [0.1237, 0.0435, -0.0884, -0.1014, 0.1468, -0.817, 0.4743, 0.4743, 0.1057, 0.1057, 0.0992, 0.0992, 0.0937, 0.0937, 0.6451, -0.6051, -0.5229, 0.3345, 0.0793, 0.072033, 0.072033, 0.072033]\n",
      "[H:6][C@:5]1([C:7]([C:8]([C:9]([N+:10]1([H:21])[H:22])([H:19])[H:20])([H:17])[H:18])([H:15])[H:16])[C:2](=[O:1])[N:3]([H:11])[C:4]([H:12])([H:13])[H:14]\n",
      "Charges: [H:6][C@:5]1([C:7]([C:8]([C:9]([N+:10]1([H:21])[H:22])([H:19])[H:20])([H:17])[H:18])([H:15])[H:16])[C:2](=[O:1])[N:3]([H:11])[C:4]([H:12])([H:13])[H:14] [0.1217, 0.0395, -0.0874, -0.1024, 0.1468, -0.815, 0.4738, 0.4738, 0.1052, 0.1052, 0.1002, 0.1002, 0.0937, 0.0937, 0.6461, -0.6051, -0.5239, 0.3345, 0.0803, 0.072033, 0.072033, 0.072033]\n",
      "[H:6][C@:5]1([C:7]([C:8]([C:9]([N+:10]1([H:21])[H:22])([H:19])[H:20])([H:17])[H:18])([H:15])[H:16])[C:2](=[O:1])[N:3]([H:11])[C:4]([H:12])([H:13])[H:14]\n",
      "Charges: [H:6][C@:5]1([C:7]([C:8]([C:9]([N+:10]1([H:21])[H:22])([H:19])[H:20])([H:17])[H:18])([H:15])[H:16])[C:2](=[O:1])[N:3]([H:11])[C:4]([H:12])([H:13])[H:14] [0.1187, 0.0375, -0.0864, -0.1014, 0.1468, -0.81, 0.4733, 0.4733, 0.1057, 0.1057, 0.1017, 0.1017, 0.0937, 0.0937, 0.6451, -0.6051, -0.5249, 0.3345, 0.0803, 0.0717, 0.0717, 0.0717]\n",
      "[H:6][C@:5]1([C:7]([C:8]([C:9]([N+:10]1([H:21])[H:22])([H:19])[H:20])([H:17])[H:18])([H:15])[H:16])[C:2](=[O:1])[N:3]([H:11])[C:4]([H:12])([H:13])[H:14]\n",
      "Charges: [H:6][C@:5]1([C:7]([C:8]([C:9]([N+:10]1([H:21])[H:22])([H:19])[H:20])([H:17])[H:18])([H:15])[H:16])[C:2](=[O:1])[N:3]([H:11])[C:4]([H:12])([H:13])[H:14] [0.1167, 0.0355, -0.0854, -0.1014, 0.1458, -0.802, 0.4713, 0.4713, 0.1057, 0.1057, 0.1032, 0.1032, 0.0947, 0.0947, 0.6421, -0.6041, -0.5269, 0.3335, 0.0803, 0.071367, 0.071367, 0.071367]\n",
      "[H:6][C@:5]1([C:7]([C:8]([C:9]([N+:10]1([H:21])[H:22])([H:19])[H:20])([H:17])[H:18])([H:15])[H:16])[C:2](=[O:1])[N:3]([H:11])[C:4]([H:12])([H:13])[H:14]\n",
      "Charges: [H:6][C@:5]1([C:7]([C:8]([C:9]([N+:10]1([H:21])[H:22])([H:19])[H:20])([H:17])[H:18])([H:15])[H:16])[C:2](=[O:1])[N:3]([H:11])[C:4]([H:12])([H:13])[H:14] [0.1147, 0.0365, -0.0844, -0.1014, 0.1448, -0.794, 0.4683, 0.4683, 0.1067, 0.1067, 0.1037, 0.1037, 0.0952, 0.0952, 0.6391, -0.5971, -0.5319, 0.3325, 0.0813, 0.0707, 0.0707, 0.0707]\n"
     ]
    }
   ],
   "source": [
    "from besmarts.mechanics.fits import gdb_to_physical_systems\n",
    "physical_systems = gdb_to_physical_systems(graph_db, chemical_system)"
   ]
  },
  {
   "cell_type": "code",
   "execution_count": 12,
   "id": "dca68fc4-c3f4-4ce0-b47a-6517fe44e643",
   "metadata": {
    "execution": {
     "iopub.execute_input": "2025-03-14T06:21:52.292659Z",
     "iopub.status.busy": "2025-03-14T06:21:52.292529Z",
     "iopub.status.idle": "2025-03-14T06:21:52.295218Z",
     "shell.execute_reply": "2025-03-14T06:21:52.294947Z",
     "shell.execute_reply.started": "2025-03-14T06:21:52.292647Z"
    }
   },
   "outputs": [
    {
     "data": {
      "text/plain": [
       "{'Bonds': 0,\n",
       " 'Angles': 1,\n",
       " 'Torsions': 2,\n",
       " 'OutOfPlanes': 3,\n",
       " 'Electrostatics': 4,\n",
       " 'vdW': 5}"
      ]
     },
     "execution_count": 12,
     "metadata": {},
     "output_type": "execute_result"
    }
   ],
   "source": [
    "model = {model.name: i for i, model in enumerate(chemical_system.models)}\n",
    "model"
   ]
  },
  {
   "cell_type": "code",
   "execution_count": 13,
   "id": "1be7632d-d1d1-4b56-a70e-06c0339045c9",
   "metadata": {
    "execution": {
     "iopub.execute_input": "2025-03-14T06:21:52.295575Z",
     "iopub.status.busy": "2025-03-14T06:21:52.295484Z",
     "iopub.status.idle": "2025-03-14T06:21:52.303992Z",
     "shell.execute_reply": "2025-03-14T06:21:52.303712Z",
     "shell.execute_reply.started": "2025-03-14T06:21:52.295567Z"
    }
   },
   "outputs": [],
   "source": [
    "split_on_models = {\n",
    "    model['Torsions']: [\"t17\"]\n",
    "}"
   ]
  },
  {
   "cell_type": "code",
   "execution_count": 14,
   "id": "6b892c0d-26d2-4e9d-b074-6d204af2780e",
   "metadata": {
    "execution": {
     "iopub.execute_input": "2025-03-14T06:21:52.304441Z",
     "iopub.status.busy": "2025-03-14T06:21:52.304331Z",
     "iopub.status.idle": "2025-03-14T06:21:52.311869Z",
     "shell.execute_reply": "2025-03-14T06:21:52.311633Z",
     "shell.execute_reply.started": "2025-03-14T06:21:52.304431Z"
    }
   },
   "outputs": [],
   "source": [
    "from besmarts.mechanics.fits import forcefield_optimization_strategy_default\n",
    "\n",
    "fitting_strategy = forcefield_optimization_strategy_default(chemical_system, models=split_on_models)"
   ]
  },
  {
   "cell_type": "code",
   "execution_count": 15,
   "id": "bf1cae41-719c-44da-8141-efec736ef766",
   "metadata": {
    "execution": {
     "iopub.execute_input": "2025-03-14T06:21:52.312208Z",
     "iopub.status.busy": "2025-03-14T06:21:52.312114Z",
     "iopub.status.idle": "2025-03-14T06:21:52.319529Z",
     "shell.execute_reply": "2025-03-14T06:21:52.319249Z",
     "shell.execute_reply.started": "2025-03-14T06:21:52.312199Z"
    }
   },
   "outputs": [],
   "source": [
    "from besmarts.mechanics.fits import chemical_objective\n",
    "force_field_objective = chemical_objective"
   ]
  },
  {
   "cell_type": "code",
   "execution_count": 16,
   "id": "f8b49ff6-341e-4498-b1f8-014d5322beb5",
   "metadata": {
    "execution": {
     "iopub.execute_input": "2025-03-14T06:21:52.319897Z",
     "iopub.status.busy": "2025-03-14T06:21:52.319804Z",
     "iopub.status.idle": "2025-03-14T06:21:52.327316Z",
     "shell.execute_reply": "2025-03-14T06:21:52.327067Z",
     "shell.execute_reply.started": "2025-03-14T06:21:52.319889Z"
    }
   },
   "outputs": [],
   "source": [
    "# Fit only the parameters we split on\n",
    "objective_tier.fit_models = list(split_on_models)\n",
    "# Only do 1 round of fitting at each tier (required to have 3 tiers)\n",
    "objective_tier.step_limit = 1\n",
    "\n",
    "objective_tiers = [objective_tier, objective_tier, objective_tier]"
   ]
  },
  {
   "cell_type": "code",
   "execution_count": 17,
   "id": "d29b82fb-dcbd-4233-b542-5507c0fd5669",
   "metadata": {
    "execution": {
     "iopub.execute_input": "2025-03-14T06:21:52.327682Z",
     "iopub.status.busy": "2025-03-14T06:21:52.327588Z",
     "iopub.status.idle": "2025-03-14T06:21:54.895514Z",
     "shell.execute_reply": "2025-03-14T06:21:54.894766Z",
     "shell.execute_reply.started": "2025-03-14T06:21:52.327673Z"
    },
    "scrolled": true
   },
   "outputs": [
    {
     "name": "stdout",
     "output_type": "stream",
     "text": [
      "Optimization strategy is building steps...\n",
      "2025-03-14 17:21:52.334021 The optimization strategy has the following iterations:\n",
      "->   1:00. op= 1 m=[2] a=[0] b=1->1 d=0->0 n=0->0\n",
      "->   1:01. op=-1 m=[2] a=[0] b=0->0 d=0->0 n=0->0\n",
      "     2:00. op= 1 m=[2] a=[0] b=2->2 d=0->0 n=0->0\n",
      "     2:01. op=-1 m=[2] a=[0] b=0->0 d=0->0 n=0->0\n",
      "workspace listening on local host. Remote connections prohibited.\n",
      "\n",
      "Initial parameter assignments of dataset:\n",
      "Model:\n",
      "Tree:\n",
      " 0   0 Bonds  \n",
      " 1   0  b1   [#6X4:1]-[#6X4:2] k: [430.4753865522] l: [1.533682189836]\n",
      " 1   0  b2   [#6X4:1]-[#6X3:2] k: [478.5938624291] l: [1.509906088505]\n",
      " 1   0  b3   [#6X4:1]-[#6X3:2]=[#8X1+0] k: [404.5865966221] l: [1.529107327625]\n",
      " 1   0  b4   [#6X3:1]-[#6X3:2] k: [534.9004011769] l: [1.467813669186]\n",
      " 1   0  b6   [#6X3:1]=[#6X3:2] k: [904.1364741993] l: [1.373322617043]\n",
      " 1   0  b7   [#6:1]-[#7:2] k: [451.7828325538] l: [1.477165026987]\n",
      " 1   0  b8   [#6X3:1]-[#7X3:2] k: [658.1801467822] l: [1.389594660959]\n",
      " 1   0  b9   [#6X4:1]-[#7X3:2]-[#6X3]=[#8X1+0] k: [482.1993321972] l: [1.462245031202]\n",
      " 1   0  b10  [#6X3:1](=[#8X1+0])-[#7X3:2] k: [653.6221669084] l: [1.383769967656]\n",
      " 1   0  b13  [#6X3:1]=[#7X2,#7X3+1:2] k: [1010.077064463] l: [1.309432162522]\n",
      " 1   0  b21  [#6:1]=[#8X1+0,#8X2+1:2] k: [1523.990238252] l: [1.224819310402]\n",
      " 1   0  b35  [#7X3:1]-[#7X2:2] k: [588.2894537984] l: [1.364452879632]\n",
      " 1   0  b84  [#6X4:1]-[#1:2] k: [715.7165017877] l: [1.093978891665]\n",
      " 1   0  b85  [#6X3:1]-[#1:2] k: [772.640205351] l: [1.085949904859]\n",
      " 1   0  b87  [#7:1]-[#1:2] k: [962.1297531375] l: [1.01870119145]\n",
      "Tree:\n",
      " 0   1 Angles  \n",
      " 1   1  a1   [*:1]~[#6X4:2]-[*:3] k: [133.6712195099] l: [1.9188319964264946]\n",
      " 1   1  a2   [#1:1]-[#6X4:2]-[#1:3] k: [73.3314112398] l: [1.8908789677076112]\n",
      " 1   1  a7   [#6r4:1]-;@[#6r4:2]-;@[#6r4:3] k: [141.9439126263] l: [1.526451639683521]\n",
      " 1   1  a8   [!#1:1]-[#6r4:2]-;!@[!#1:3] k: [212.4788650455] l: [2.0099279359975455]\n",
      " 1   1  a9   [!#1:1]-[#6r4:2]-;!@[#1:3] k: [115.4078393137] l: [1.9860418070028696]\n",
      " 1   1  a10  [*:1]~[#6X3:2]~[*:3] k: [168.9220072776] l: [2.095903466990631]\n",
      " 1   1  a14  [*:1]~;!@[*;X3;r5:2]~;@[*;r5:3] k: [101.2893818769] l: [2.1780998981330795]\n",
      " 1   1  a19  [#1:1]-[#7X4,#7X3,#7X2-1:2]-[*:3] k: [107.9142540145] l: [1.9069813807132558]\n",
      " 1   1  a20  [*:1]~[#7X3$(*~[#6X3,#6X2,#7X2+0]):2]~[*:3] k: [157.1195378369] l: [2.102557279891683]\n",
      " 1   1  a21  [#1:1]-[#7X3$(*~[#6X3,#6X2,#7X2+0]):2]-[*:3] k: [74.21496242199] l: [2.060527159002061]\n",
      " 1   1  a41  [*;r5:1]1@[*;r5:2]@[*;r5:3]@[*;r5]@[*;r5]1 k: [181.7481750351] l: [1.887278490870519]\n",
      "Tree:\n",
      " 0   2 Torsions  \n",
      " 1   2  t1   [*:1]-[#6X4:2]-[#6X4:3]-[*:4] n: [3] k: [0.1467399161891] p: [0.0]\n",
      " 1   2  t2   [#6X4:1]-[#6X4:2]-[#6X4:3]-[#6X4:4] n: [3, 2, 1] k: [0.4237564743837, 0.2203586562011, 0.974718587694] p: [0.0, 3.141592653589793, 3.141592653589793]\n",
      " 1   2  t3   [#1:1]-[#6X4:2]-[#6X4:3]-[#1:4] n: [3] k: [0.2390393844711] p: [0.0]\n",
      " 1   2  t4   [#1:1]-[#6X4:2]-[#6X4:3]-[#6X4:4] n: [3] k: [0.08874370745149] p: [0.0]\n",
      " 1   2  t17  [*:1]~[#6X3:2]-[#6X4:3]-[*:4] n: [3] k: [0.2172538452775] p: [0.0]\n",
      " 1   2  t18  [*:1]-[#6X4:2]-[#6X3:3]=[*:4] n: [2] k: [-0.458957400131] p: [0.0]\n",
      " 1   2  t19  [#1:1]-[#6X4:2]-[#6X3:3]=[#8X1:4] n: [1, 2, 3] k: [0.9319055975451, 0.1982282188714, -0.2165628209811] p: [0.0, 0.0, 3.141592653589793]\n",
      " 1   2  t23  [#6X4:1]-[#6X4:2]-[#6X3:3]-[#7X3:4] n: [4, 2] k: [-0.2953560374034, 0.2922622555403] p: [0.0, 0.0]\n",
      " 1   2  t45  [*:1]-,:[#6X3:2]=[#6X3:3]-,:[*:4] n: [2] k: [4.702324631505] p: [3.141592653589793]\n",
      " 1   2  t47  [*:1]~[#6X3:2]-[#6X3$(*=[#8,#16,#7]):3]~[*:4] n: [2] k: [1.063397665307] p: [3.141592653589793]\n",
      " 1   2  t50  [*:1]-[#6X4:2]-[#7X4:3]-[*:4] n: [3] k: [0.1138888511889] p: [0.0]\n",
      " 1   2  t58  [#6X4:1]-[#6X4:2]-[#7X4,#7X3:3]-[#6X4:4] n: [3, 2] k: [0.09553382524722, 0.2939247547072] p: [0.0, 3.141592653589793]\n",
      " 1   2  t64  [*:1]-[#6X4:2]-[#7X3$(*~[#6X3,#6X2]):3]~[*:4] n: [2, 3] k: [0.3596352002927, 0.24966967007] p: [0.0, 0.0]\n",
      " 1   2  t74  [*:1]~[#7X3,#7X2-1:2]-!@[#6X3:3]~[*:4] n: [2] k: [1.422178506497] p: [3.141592653589793]\n",
      " 1   2  t75  [*:1]-[#7X3:2]-[#6X3$(*=[#8,#16,#7]):3]~[*:4] n: [2, 1] k: [2.101471983363, 0.2423731897886] p: [3.141592653589793, 0.0]\n",
      " 1   2  t77  [*:1]-[#7X3:2]-!@[#6X3:3](=[#8,#16,#7:4])-[#6,#1] n: [2, 1] k: [2.441584414666, -0.4278560639972] p: [3.141592653589793, 0.0]\n",
      " 1   2  t78  [#1:1]-[#7X3:2]-!@[#6X3:3](=[#8,#16,#7:4])-[#6,#1] n: [2, 1] k: [1.295051102073, 1.22511756632] p: [3.141592653589793, 0.0]\n",
      " 1   2  t80  [*:1]-[#7X3;r5:2]-@[#6X3;r5:3]~[*:4] n: [2] k: [1.46856866731] p: [3.141592653589793]\n",
      " 1   2  t86  [*:1]-,:[#6X3:2]=[#7X2:3]-[*:4] n: [2] k: [8.052532732388] p: [3.141592653589793]\n",
      " 1   2  t138 [*:1]~[#7X2:2]-[#7X3:3]~[*:4] n: [3, 2] k: [-0.4621193109757, 2.08903784642] p: [0.0, 3.141592653589793]\n",
      "Tree:\n",
      " 0   3 OutOfPlanes  \n",
      " 1   3  i1   [*:1]~[#6X3:2](~[*:3])~[*:4] n: [2] k: [5.300125669502] p: [3.141592653589793]\n",
      " 1   3  i4   [*:1]~[#7X3$(*~[#6X3]):2](~[*:3])~[*:4] n: [2] k: [1.279441128551] p: [3.141592653589793]\n",
      " 1   3  i6   [*:1]~[#7X3$(*@1-[*]=,:[*][*]=,:[*]@1):2](~[*:3])~[*:4] n: [2] k: [15.97210794376] p: [3.141592653589793]\n",
      "Tree:\n",
      " 0   4 s1   [*:1].[*:2] s: [1.0]\n",
      " 0   4 s4   [*:1]~[*]~[*]~[*:2] s: [0.8333333333333334]\n",
      " 0   4 s3   [*:1]~[*]~[*:2] s: [0.0]\n",
      "Tree:\n",
      " 0   5 vdW   \n",
      " 1   5  n2   [#1:1]-[#6X4] e: [0.01577948280971] r: [2.6445434132681247]\n",
      " 1   5  n3   [#1:1]-[#6X4]-[#7,#8,#9,#16,#17,#35] e: [0.01640924602775] r: [2.583225710839196]\n",
      " 1   5  n6   [#1:1]-[#6X4]~[*+1,*+2] e: [0.0157] r: [1.9599771799087466]\n",
      " 1   5  n7   [#1:1]-[#6X3] e: [0.01561134320353] r: [2.5725815350632795]\n",
      " 1   5  n11  [#1:1]-[#7] e: [0.01409081474669] r: [1.1034276772973168]\n",
      " 1   5  n14  [#6:1] e: [0.0868793154488] r: [3.480646886945065]\n",
      " 1   5  n16  [#6X4:1] e: [0.1088406109251] r: [3.3795317616266205]\n",
      " 1   5  n17  [#8:1] e: [0.2102061007896] r: [3.039812205065809]\n",
      " 1   5  n20  [#7:1] e: [0.1676915150424] r: [3.2068760236639013]\n",
      "Tree:\n",
      " 0   5 s1   [*:1].[*:2] s: [1.0]\n",
      " 0   5 s4   [*:1]~[*]~[*]~[*:2] s: [0.5]\n",
      " 0   5 s3   [*:1]~[*]~[*:2] s: [0.0]\n",
      "### BESMARTS chemical perception on the following assignments ###\n",
      "Model:\n",
      "Tree:\n",
      " 0   0 Bonds  \n",
      "Tree:\n",
      " 0   1 Angles  \n",
      "Tree:\n",
      " 0   2 Torsions  \n",
      " 1   2  t1   [*:1]-[#6X4:2]-[#6X4:3]-[*:4] n: [3] k: [0.1467399161891] p: [0.0]\n",
      " 1   2  t2   [#6X4:1]-[#6X4:2]-[#6X4:3]-[#6X4:4] n: [3, 2, 1] k: [0.4237564743837, 0.2203586562011, 0.974718587694] p: [0.0, 3.141592653589793, 3.141592653589793]\n",
      " 1   2  t3   [#1:1]-[#6X4:2]-[#6X4:3]-[#1:4] n: [3] k: [0.2390393844711] p: [0.0]\n",
      " 1   2  t4   [#1:1]-[#6X4:2]-[#6X4:3]-[#6X4:4] n: [3] k: [0.08874370745149] p: [0.0]\n",
      " 1   2  t17  [*:1]~[#6X3:2]-[#6X4:3]-[*:4] n: [3] k: [0.2172538452775] p: [0.0]\n",
      " 1   2  t18  [*:1]-[#6X4:2]-[#6X3:3]=[*:4] n: [2] k: [-0.458957400131] p: [0.0]\n",
      " 1   2  t19  [#1:1]-[#6X4:2]-[#6X3:3]=[#8X1:4] n: [1, 2, 3] k: [0.9319055975451, 0.1982282188714, -0.2165628209811] p: [0.0, 0.0, 3.141592653589793]\n",
      " 1   2  t23  [#6X4:1]-[#6X4:2]-[#6X3:3]-[#7X3:4] n: [4, 2] k: [-0.2953560374034, 0.2922622555403] p: [0.0, 0.0]\n",
      " 1   2  t45  [*:1]-,:[#6X3:2]=[#6X3:3]-,:[*:4] n: [2] k: [4.702324631505] p: [3.141592653589793]\n",
      " 1   2  t47  [*:1]~[#6X3:2]-[#6X3$(*=[#8,#16,#7]):3]~[*:4] n: [2] k: [1.063397665307] p: [3.141592653589793]\n",
      " 1   2  t50  [*:1]-[#6X4:2]-[#7X4:3]-[*:4] n: [3] k: [0.1138888511889] p: [0.0]\n",
      " 1   2  t58  [#6X4:1]-[#6X4:2]-[#7X4,#7X3:3]-[#6X4:4] n: [3, 2] k: [0.09553382524722, 0.2939247547072] p: [0.0, 3.141592653589793]\n",
      " 1   2  t64  [*:1]-[#6X4:2]-[#7X3$(*~[#6X3,#6X2]):3]~[*:4] n: [2, 3] k: [0.3596352002927, 0.24966967007] p: [0.0, 0.0]\n",
      " 1   2  t74  [*:1]~[#7X3,#7X2-1:2]-!@[#6X3:3]~[*:4] n: [2] k: [1.422178506497] p: [3.141592653589793]\n",
      " 1   2  t75  [*:1]-[#7X3:2]-[#6X3$(*=[#8,#16,#7]):3]~[*:4] n: [2, 1] k: [2.101471983363, 0.2423731897886] p: [3.141592653589793, 0.0]\n",
      " 1   2  t77  [*:1]-[#7X3:2]-!@[#6X3:3](=[#8,#16,#7:4])-[#6,#1] n: [2, 1] k: [2.441584414666, -0.4278560639972] p: [3.141592653589793, 0.0]\n",
      " 1   2  t78  [#1:1]-[#7X3:2]-!@[#6X3:3](=[#8,#16,#7:4])-[#6,#1] n: [2, 1] k: [1.295051102073, 1.22511756632] p: [3.141592653589793, 0.0]\n",
      " 1   2  t80  [*:1]-[#7X3;r5:2]-@[#6X3;r5:3]~[*:4] n: [2] k: [1.46856866731] p: [3.141592653589793]\n",
      " 1   2  t86  [*:1]-,:[#6X3:2]=[#7X2:3]-[*:4] n: [2] k: [8.052532732388] p: [3.141592653589793]\n",
      " 1   2  t138 [*:1]~[#7X2:2]-[#7X3:3]~[*:4] n: [3, 2] k: [-0.4621193109757, 2.08903784642] p: [0.0, 3.141592653589793]\n",
      "Tree:\n",
      " 0   3 OutOfPlanes  \n",
      "Tree:\n",
      "Tree:\n",
      " 0   5 vdW   \n",
      "Tree:\n",
      "#################################################################\n",
      "2025-03-14 17:21:52.494546 Will be caching models set()\n",
      "2025-03-14 17:21:52.494718 Computing physical objective\n",
      "REUSE IS []\n",
      "2025-03-14 17:21:52.503329 Generating 27 objectives. \n",
      "2025-03-14 17:21:52.503353 Processing objectives in 1 batches (target cost 4806 total 4806)\n",
      "2025-03-14 17:21:52.503360 Starting physical parameter optimization\n",
      "Setting (0, 'k', 'b1', 0)    from        430.4754 to        430.4754 d=              0\n",
      "Setting (0, 'k', 'b2', 0)    from        478.5939 to        478.5939 d=              0\n",
      "Setting (0, 'k', 'b3', 0)    from        404.5866 to        404.5866 d=              0\n",
      "Setting (0, 'k', 'b4', 0)    from        534.9004 to        534.9004 d=              0\n",
      "Setting (0, 'k', 'b6', 0)    from        904.1365 to        904.1365 d=              0\n",
      "Setting (0, 'k', 'b7', 0)    from        451.7828 to        451.7828 d=              0\n",
      "Setting (0, 'k', 'b8', 0)    from        658.1801 to        658.1801 d=              0\n",
      "Setting (0, 'k', 'b9', 0)    from        482.1993 to        482.1993 d=              0\n",
      "Setting (0, 'k', 'b10', 0)   from        653.6222 to        653.6222 d=              0\n",
      "Setting (0, 'k', 'b13', 0)   from        1010.077 to        1010.077 d=              0\n",
      "Setting (0, 'k', 'b21', 0)   from         1523.99 to         1523.99 d=              0\n",
      "Setting (0, 'k', 'b35', 0)   from        588.2895 to        588.2895 d=              0\n",
      "Setting (0, 'k', 'b84', 0)   from        715.7165 to        715.7165 d=              0\n",
      "Setting (0, 'k', 'b85', 0)   from        772.6402 to        772.6402 d=              0\n",
      "Setting (0, 'k', 'b87', 0)   from        962.1298 to        962.1298 d=              0\n",
      "Setting (0, 'l', 'b1', 0)    from        1.533682 to        1.533682 d=              0\n",
      "Setting (0, 'l', 'b2', 0)    from        1.509906 to        1.509906 d=              0\n",
      "Setting (0, 'l', 'b3', 0)    from        1.529107 to        1.529107 d=              0\n",
      "Setting (0, 'l', 'b4', 0)    from        1.467814 to        1.467814 d=              0\n",
      "Setting (0, 'l', 'b6', 0)    from        1.373323 to        1.373323 d=              0\n",
      "Setting (0, 'l', 'b7', 0)    from        1.477165 to        1.477165 d=              0\n",
      "Setting (0, 'l', 'b8', 0)    from        1.389595 to        1.389595 d=              0\n",
      "Setting (0, 'l', 'b9', 0)    from        1.462245 to        1.462245 d=              0\n",
      "Setting (0, 'l', 'b10', 0)   from         1.38377 to         1.38377 d=              0\n",
      "Setting (0, 'l', 'b13', 0)   from        1.309432 to        1.309432 d=              0\n",
      "Setting (0, 'l', 'b21', 0)   from        1.224819 to        1.224819 d=              0\n",
      "Setting (0, 'l', 'b35', 0)   from        1.364453 to        1.364453 d=              0\n",
      "Setting (0, 'l', 'b84', 0)   from        1.093979 to        1.093979 d=              0\n",
      "Setting (0, 'l', 'b85', 0)   from         1.08595 to         1.08595 d=              0\n",
      "Setting (0, 'l', 'b87', 0)   from        1.018701 to        1.018701 d=              0\n",
      "Setting (1, 'k', 'a1', 0)    from        133.6712 to        133.6712 d=              0\n",
      "Setting (1, 'k', 'a2', 0)    from        73.33141 to        73.33141 d=              0\n",
      "Setting (1, 'k', 'a7', 0)    from        141.9439 to        141.9439 d=              0\n",
      "Setting (1, 'k', 'a8', 0)    from        212.4789 to        212.4789 d=              0\n",
      "Setting (1, 'k', 'a9', 0)    from        115.4078 to        115.4078 d=              0\n",
      "Setting (1, 'k', 'a10', 0)   from         168.922 to         168.922 d=              0\n",
      "Setting (1, 'k', 'a14', 0)   from        101.2894 to        101.2894 d=              0\n",
      "Setting (1, 'k', 'a19', 0)   from        107.9143 to        107.9143 d=              0\n",
      "Setting (1, 'k', 'a20', 0)   from        157.1195 to        157.1195 d=              0\n",
      "Setting (1, 'k', 'a21', 0)   from        74.21496 to        74.21496 d=              0\n",
      "Setting (1, 'k', 'a41', 0)   from        181.7482 to        181.7482 d=              0\n",
      "Setting (1, 'l', 'a1', 0)    from        1.918832 to        1.918832 d=              0\n",
      "Setting (1, 'l', 'a2', 0)    from        1.890879 to        1.890879 d=              0\n",
      "Setting (1, 'l', 'a7', 0)    from        1.526452 to        1.526452 d=              0\n",
      "Setting (1, 'l', 'a8', 0)    from        2.009928 to        2.009928 d=              0\n",
      "Setting (1, 'l', 'a9', 0)    from        1.986042 to        1.986042 d=              0\n",
      "Setting (1, 'l', 'a10', 0)   from        2.095903 to        2.095903 d=              0\n",
      "Setting (1, 'l', 'a14', 0)   from          2.1781 to          2.1781 d=              0\n",
      "Setting (1, 'l', 'a19', 0)   from        1.906981 to        1.906981 d=              0\n",
      "Setting (1, 'l', 'a20', 0)   from        2.102557 to        2.102557 d=              0\n",
      "Setting (1, 'l', 'a21', 0)   from        2.060527 to        2.060527 d=              0\n",
      "Setting (1, 'l', 'a41', 0)   from        1.887278 to        1.887278 d=              0\n",
      "Setting (2, 'n', 't1', 0)    from               3 to               3 d=              0\n",
      "Setting (2, 'n', 't2', 0)    from               3 to               3 d=              0\n",
      "Setting (2, 'n', 't2', 1)    from               2 to               2 d=              0\n",
      "Setting (2, 'n', 't2', 2)    from               1 to               1 d=              0\n",
      "Setting (2, 'n', 't3', 0)    from               3 to               3 d=              0\n",
      "Setting (2, 'n', 't4', 0)    from               3 to               3 d=              0\n",
      "Setting (2, 'n', 't17', 0)   from               3 to               3 d=              0\n",
      "Setting (2, 'n', 't18', 0)   from               2 to               2 d=              0\n",
      "Setting (2, 'n', 't19', 0)   from               1 to               1 d=              0\n",
      "Setting (2, 'n', 't19', 1)   from               2 to               2 d=              0\n",
      "Setting (2, 'n', 't19', 2)   from               3 to               3 d=              0\n",
      "Setting (2, 'n', 't23', 0)   from               4 to               4 d=              0\n",
      "Setting (2, 'n', 't23', 1)   from               2 to               2 d=              0\n",
      "Setting (2, 'n', 't45', 0)   from               2 to               2 d=              0\n",
      "Setting (2, 'n', 't47', 0)   from               2 to               2 d=              0\n",
      "Setting (2, 'n', 't50', 0)   from               3 to               3 d=              0\n",
      "Setting (2, 'n', 't58', 0)   from               3 to               3 d=              0\n",
      "Setting (2, 'n', 't58', 1)   from               2 to               2 d=              0\n",
      "Setting (2, 'n', 't64', 0)   from               2 to               2 d=              0\n",
      "Setting (2, 'n', 't64', 1)   from               3 to               3 d=              0\n",
      "Setting (2, 'n', 't74', 0)   from               2 to               2 d=              0\n",
      "Setting (2, 'n', 't75', 0)   from               2 to               2 d=              0\n",
      "Setting (2, 'n', 't75', 1)   from               1 to               1 d=              0\n",
      "Setting (2, 'n', 't77', 0)   from               2 to               2 d=              0\n",
      "Setting (2, 'n', 't77', 1)   from               1 to               1 d=              0\n",
      "Setting (2, 'n', 't78', 0)   from               2 to               2 d=              0\n",
      "Setting (2, 'n', 't78', 1)   from               1 to               1 d=              0\n",
      "Setting (2, 'n', 't80', 0)   from               2 to               2 d=              0\n",
      "Setting (2, 'n', 't86', 0)   from               2 to               2 d=              0\n",
      "Setting (2, 'n', 't138', 0)  from               3 to               3 d=              0\n",
      "Setting (2, 'n', 't138', 1)  from               2 to               2 d=              0\n",
      "Setting (2, 'k', 't1', 0)    from       0.1467399 to       0.1467399 d=              0\n",
      "Setting (2, 'k', 't2', 0)    from       0.4237565 to       0.4237565 d=              0\n",
      "Setting (2, 'k', 't2', 1)    from       0.2203587 to       0.2203587 d=              0\n",
      "Setting (2, 'k', 't2', 2)    from       0.9747186 to       0.9747186 d=              0\n",
      "Setting (2, 'k', 't3', 0)    from       0.2390394 to       0.2390394 d=              0\n",
      "Setting (2, 'k', 't4', 0)    from      0.08874371 to      0.08874371 d=              0\n",
      "Setting (2, 'k', 't17', 0)   from       0.2172538 to       0.2172538 d=              0\n",
      "Setting (2, 'k', 't18', 0)   from      -0.4589574 to      -0.4589574 d=              0\n",
      "Setting (2, 'k', 't19', 0)   from       0.9319056 to       0.9319056 d=              0\n",
      "Setting (2, 'k', 't19', 1)   from       0.1982282 to       0.1982282 d=              0\n",
      "Setting (2, 'k', 't19', 2)   from      -0.2165628 to      -0.2165628 d=              0\n",
      "Setting (2, 'k', 't23', 0)   from       -0.295356 to       -0.295356 d=              0\n",
      "Setting (2, 'k', 't23', 1)   from       0.2922623 to       0.2922623 d=              0\n",
      "Setting (2, 'k', 't45', 0)   from        4.702325 to        4.702325 d=              0\n",
      "Setting (2, 'k', 't47', 0)   from        1.063398 to        1.063398 d=              0\n",
      "Setting (2, 'k', 't50', 0)   from       0.1138889 to       0.1138889 d=              0\n",
      "Setting (2, 'k', 't58', 0)   from      0.09553383 to      0.09553383 d=              0\n",
      "Setting (2, 'k', 't58', 1)   from       0.2939248 to       0.2939248 d=              0\n",
      "Setting (2, 'k', 't64', 0)   from       0.3596352 to       0.3596352 d=              0\n",
      "Setting (2, 'k', 't64', 1)   from       0.2496697 to       0.2496697 d=              0\n",
      "Setting (2, 'k', 't74', 0)   from        1.422179 to        1.422179 d=              0\n",
      "Setting (2, 'k', 't75', 0)   from        2.101472 to        2.101472 d=              0\n",
      "Setting (2, 'k', 't75', 1)   from       0.2423732 to       0.2423732 d=              0\n",
      "Setting (2, 'k', 't77', 0)   from        2.441584 to        2.441584 d=              0\n",
      "Setting (2, 'k', 't77', 1)   from      -0.4278561 to      -0.4278561 d=              0\n",
      "Setting (2, 'k', 't78', 0)   from        1.295051 to        1.295051 d=              0\n",
      "Setting (2, 'k', 't78', 1)   from        1.225118 to        1.225118 d=              0\n",
      "Setting (2, 'k', 't80', 0)   from        1.468569 to        1.468569 d=              0\n",
      "Setting (2, 'k', 't86', 0)   from        8.052533 to        8.052533 d=              0\n",
      "Setting (2, 'k', 't138', 0)  from      -0.4621193 to      -0.4621193 d=              0\n",
      "Setting (2, 'k', 't138', 1)  from        2.089038 to        2.089038 d=              0\n",
      "Setting (2, 'p', 't1', 0)    from               0 to               0 d=              0\n",
      "Setting (2, 'p', 't2', 0)    from               0 to               0 d=              0\n",
      "Setting (2, 'p', 't2', 1)    from        3.141593 to        3.141593 d=              0\n",
      "Setting (2, 'p', 't2', 2)    from        3.141593 to        3.141593 d=              0\n",
      "Setting (2, 'p', 't3', 0)    from               0 to               0 d=              0\n",
      "Setting (2, 'p', 't4', 0)    from               0 to               0 d=              0\n",
      "Setting (2, 'p', 't17', 0)   from               0 to               0 d=              0\n",
      "Setting (2, 'p', 't18', 0)   from               0 to               0 d=              0\n",
      "Setting (2, 'p', 't19', 0)   from               0 to               0 d=              0\n",
      "Setting (2, 'p', 't19', 1)   from               0 to               0 d=              0\n",
      "Setting (2, 'p', 't19', 2)   from        3.141593 to        3.141593 d=              0\n",
      "Setting (2, 'p', 't23', 0)   from               0 to               0 d=              0\n",
      "Setting (2, 'p', 't23', 1)   from               0 to               0 d=              0\n",
      "Setting (2, 'p', 't45', 0)   from        3.141593 to        3.141593 d=              0\n",
      "Setting (2, 'p', 't47', 0)   from        3.141593 to        3.141593 d=              0\n",
      "Setting (2, 'p', 't50', 0)   from               0 to               0 d=              0\n",
      "Setting (2, 'p', 't58', 0)   from               0 to               0 d=              0\n",
      "Setting (2, 'p', 't58', 1)   from        3.141593 to        3.141593 d=              0\n",
      "Setting (2, 'p', 't64', 0)   from               0 to               0 d=              0\n",
      "Setting (2, 'p', 't64', 1)   from               0 to               0 d=              0\n",
      "Setting (2, 'p', 't74', 0)   from        3.141593 to        3.141593 d=              0\n",
      "Setting (2, 'p', 't75', 0)   from        3.141593 to        3.141593 d=              0\n",
      "Setting (2, 'p', 't75', 1)   from               0 to               0 d=              0\n",
      "Setting (2, 'p', 't77', 0)   from        3.141593 to        3.141593 d=              0\n",
      "Setting (2, 'p', 't77', 1)   from               0 to               0 d=              0\n",
      "Setting (2, 'p', 't78', 0)   from        3.141593 to        3.141593 d=              0\n",
      "Setting (2, 'p', 't78', 1)   from               0 to               0 d=              0\n",
      "Setting (2, 'p', 't80', 0)   from        3.141593 to        3.141593 d=              0\n",
      "Setting (2, 'p', 't86', 0)   from        3.141593 to        3.141593 d=              0\n",
      "Setting (2, 'p', 't138', 0)  from               0 to               0 d=              0\n",
      "Setting (2, 'p', 't138', 1)  from        3.141593 to        3.141593 d=              0\n",
      "Setting (3, 'n', 'i1', 0)    from               2 to               2 d=              0\n",
      "Setting (3, 'n', 'i4', 0)    from               2 to               2 d=              0\n",
      "Setting (3, 'n', 'i6', 0)    from               2 to               2 d=              0\n",
      "Setting (3, 'k', 'i1', 0)    from        5.300126 to        5.300126 d=              0\n",
      "Setting (3, 'k', 'i4', 0)    from        1.279441 to        1.279441 d=              0\n",
      "Setting (3, 'k', 'i6', 0)    from        15.97211 to        15.97211 d=              0\n",
      "Setting (3, 'p', 'i1', 0)    from        3.141593 to        3.141593 d=              0\n",
      "Setting (3, 'p', 'i4', 0)    from        3.141593 to        3.141593 d=              0\n",
      "Setting (3, 'p', 'i6', 0)    from        3.141593 to        3.141593 d=              0\n",
      "Setting (4, 's', 's1', 0)    from               1 to               1 d=              0\n",
      "Setting (4, 's', 's4', 0)    from       0.8333333 to       0.8333333 d=              0\n",
      "Setting (4, 's', 's3', 0)    from               0 to               0 d=              0\n",
      "Setting (5, 'e', 'n2', 0)    from      0.01577948 to      0.01577948 d=              0\n",
      "Setting (5, 'e', 'n3', 0)    from      0.01640925 to      0.01640925 d=              0\n",
      "Setting (5, 'e', 'n6', 0)    from          0.0157 to          0.0157 d=              0\n",
      "Setting (5, 'e', 'n7', 0)    from      0.01561134 to      0.01561134 d=              0\n",
      "Setting (5, 'e', 'n11', 0)   from      0.01409081 to      0.01409081 d=              0\n",
      "Setting (5, 'e', 'n14', 0)   from      0.08687932 to      0.08687932 d=              0\n",
      "Setting (5, 'e', 'n16', 0)   from       0.1088406 to       0.1088406 d=              0\n",
      "Setting (5, 'e', 'n17', 0)   from       0.2102061 to       0.2102061 d=              0\n",
      "Setting (5, 'e', 'n20', 0)   from       0.1676915 to       0.1676915 d=              0\n",
      "Setting (5, 'r', 'n2', 0)    from        2.644543 to        2.644543 d=              0\n",
      "Setting (5, 'r', 'n3', 0)    from        2.583226 to        2.583226 d=              0\n",
      "Setting (5, 'r', 'n6', 0)    from        1.959977 to        1.959977 d=              0\n",
      "Setting (5, 'r', 'n7', 0)    from        2.572582 to        2.572582 d=              0\n",
      "Setting (5, 'r', 'n11', 0)   from        1.103428 to        1.103428 d=              0\n",
      "Setting (5, 'r', 'n14', 0)   from        3.480647 to        3.480647 d=              0\n",
      "Setting (5, 'r', 'n16', 0)   from        3.379532 to        3.379532 d=              0\n",
      "Setting (5, 'r', 'n17', 0)   from        3.039812 to        3.039812 d=              0\n",
      "Setting (5, 'r', 'n20', 0)   from        3.206876 to        3.206876 d=              0\n",
      "Setting (5, 's', 's1', 0)    from               1 to               1 d=              0\n",
      "Setting (5, 's', 's4', 0)    from             0.5 to             0.5 d=              0\n",
      "Setting (5, 's', 's3', 0)    from               0 to               0 d=              0\n",
      "2025-03-14 17:21:52.507235 Objective batch 1/1\n",
      "\n",
      "2025-03-14 17:21:52.510302 Running 54 tasks\n"
     ]
    },
    {
     "name": "stderr",
     "output_type": "stream",
     "text": [
      "/home/joshmitchell/Documents/openff/besmarts/besmarts-scipy/python/besmarts/mechanics/optimizers_scipy.py:1419: RuntimeWarning: Method trust-ncg cannot handle bounds.\n",
      "  scipy.optimize.minimize(\n"
     ]
    },
    {
     "name": "stdout",
     "output_type": "stream",
     "text": [
      "[H:14][C:3]1=[C:2]([N:11]([N:10]=[C:4]1[C:5]23[C:6]([C:7]([C:8]2([H:18])[H:19])([C:9]3([H:20])[H:21])[H:17])([H:15])[H:16])[H:22])[N:1]([H:12])[H:13]\n",
      "Charges: [H:14][C:3]1=[C:2]([N:11]([N:10]=[C:4]1[C:5]23[C:6]([C:7]([C:8]2([H:18])[H:19])([C:9]3([H:20])[H:21])[H:17])([H:15])[H:16])[H:22])[N:1]([H:12])[H:13] [0.162, -0.3453, 0.0913, -0.0396, -0.5068, 0.3836, -0.1413, -0.0754, -0.1137, -0.0754, 0.0572, 0.0572, -0.0754, 0.0572, 0.0572, 0.0947, 0.0572, 0.0572, 0.3227, -0.7812, 0.3798, 0.3798]\n"
     ]
    },
    {
     "ename": "TypeError",
     "evalue": "in method 'PeriodicTorsionForce_addTorsion', argument 6 of type 'int'",
     "output_type": "error",
     "traceback": [
      "\u001b[31m---------------------------------------------------------------------------\u001b[39m",
      "\u001b[31mTypeError\u001b[39m                                 Traceback (most recent call last)",
      "\u001b[32m/tmp/ipykernel_1909794/1646342307.py\u001b[39m in \u001b[36m?\u001b[39m\u001b[34m()\u001b[39m\n\u001b[32m      2\u001b[39m \u001b[38;5;28;01mfrom\u001b[39;00m besmarts.core \u001b[38;5;28;01mimport\u001b[39;00m configs\n\u001b[32m      3\u001b[39m configs.processors = \u001b[32m1\u001b[39m\n\u001b[32m      4\u001b[39m configs.remote_compute_enable = \u001b[38;5;28;01mFalse\u001b[39;00m\n\u001b[32m      5\u001b[39m configs.workqueue_port = \u001b[32m57575\u001b[39m\n\u001b[32m----> \u001b[39m\u001b[32m6\u001b[39m newcsys, (P0, P), (C0, C) = ff_optimize(\n\u001b[32m      7\u001b[39m     csys0=chemical_system,\n\u001b[32m      8\u001b[39m     gdb=graph_db,\n\u001b[32m      9\u001b[39m     psystems=physical_systems,\n",
      "\u001b[32m~/Documents/openff/besmarts/besmarts-mechanics/python/besmarts/mechanics/fits.py\u001b[39m in \u001b[36m?\u001b[39m\u001b[34m(csys0, gdb, psystems, strategy, chemical_objective, initial_objective, tiers, final_objective)\u001b[39m\n\u001b[32m   3173\u001b[39m     \u001b[38;5;28;01mif\u001b[39;00m strategy.cursor > \u001b[32m0\u001b[39m \u001b[38;5;28;01mor\u001b[39;00m strategy.step_tracker:\n\u001b[32m   3174\u001b[39m         restarting = initial_objective.step_limit\n\u001b[32m   3175\u001b[39m         initial_objective.step_limit = \u001b[32m0\u001b[39m\n\u001b[32m   3176\u001b[39m \n\u001b[32m-> \u001b[39m\u001b[32m3177\u001b[39m     ret = fit(\n\u001b[32m   3178\u001b[39m         csys,\n\u001b[32m   3179\u001b[39m         gdb,\n\u001b[32m   3180\u001b[39m         initial_objective,\n",
      "\u001b[32m~/Documents/openff/besmarts/besmarts-mechanics/python/besmarts/mechanics/fits.py\u001b[39m in \u001b[36m?\u001b[39m\u001b[34m(csys, gdb, objective, psystems, nodes, wq, verbose)\u001b[39m\n\u001b[32m   2973\u001b[39m     fitting_models = set((k[\u001b[32m0\u001b[39m] \u001b[38;5;28;01mfor\u001b[39;00m k \u001b[38;5;28;01min\u001b[39;00m fitkeys))\n\u001b[32m   2974\u001b[39m     reuse0 = [k \u001b[38;5;28;01mfor\u001b[39;00m k, _ \u001b[38;5;28;01min\u001b[39;00m enumerate(csys.models) \u001b[38;5;28;01mif\u001b[39;00m k \u001b[38;5;28;01mnot\u001b[39;00m \u001b[38;5;28;01min\u001b[39;00m fitting_models]\n\u001b[32m   2975\u001b[39m \n\u001b[32m   2976\u001b[39m     print(\u001b[33m\"REUSE IS\"\u001b[39m, reuse0)\n\u001b[32m-> \u001b[39m\u001b[32m2977\u001b[39m     ret = objective_tier_run(\n\u001b[32m   2978\u001b[39m         objective,\n\u001b[32m   2979\u001b[39m         gdb,\n\u001b[32m   2980\u001b[39m         csys,\n",
      "\u001b[32m~/Documents/openff/besmarts/besmarts-mechanics/python/besmarts/mechanics/fits.py\u001b[39m in \u001b[36m?\u001b[39m\u001b[34m(ot, gdb, csys, keys, oid, psysref, reuse, wq, verbose)\u001b[39m\n\u001b[32m   2491\u001b[39m         verbose,\n\u001b[32m   2492\u001b[39m         minstep\n\u001b[32m   2493\u001b[39m     )\n\u001b[32m   2494\u001b[39m \n\u001b[32m-> \u001b[39m\u001b[32m2495\u001b[39m     ret = optimizers_scipy.optimize_forcefield_gdb_scipy(\n\u001b[32m   2496\u001b[39m         x0,\n\u001b[32m   2497\u001b[39m         args,\n\u001b[32m   2498\u001b[39m         bounds=bounds,\n",
      "\u001b[32m~/Documents/openff/besmarts/besmarts-scipy/python/besmarts/mechanics/optimizers_scipy.py\u001b[39m in \u001b[36m?\u001b[39m\u001b[34m(x0, args, bounds, step_limit, maxls, ftol, gtol, anneal)\u001b[39m\n\u001b[32m   1415\u001b[39m \n\u001b[32m   1416\u001b[39m     \u001b[38;5;28;01melif\u001b[39;00m step_limit == \u001b[32m0\u001b[39m:\n\u001b[32m   1417\u001b[39m         singlepoint_forcefield_gdb_scipy(x0, *args)\n\u001b[32m   1418\u001b[39m     \u001b[38;5;28;01melse\u001b[39;00m:\n\u001b[32m-> \u001b[39m\u001b[32m1419\u001b[39m         scipy.optimize.minimize(\n\u001b[32m   1420\u001b[39m             fit_grad_gdb,\n\u001b[32m   1421\u001b[39m             x0,\n\u001b[32m   1422\u001b[39m             args=args,\n",
      "\u001b[32m~/Documents/openff/besmarts-smee-refit/.soap/examples/lib/python3.11/site-packages/scipy/optimize/_minimize.py\u001b[39m in \u001b[36m?\u001b[39m\u001b[34m(fun, x0, args, method, jac, hess, hessp, bounds, constraints, tol, callback, options)\u001b[39m\n\u001b[32m    756\u001b[39m     \u001b[38;5;28;01melif\u001b[39;00m meth == \u001b[33m'dogleg'\u001b[39m:\n\u001b[32m    757\u001b[39m         res = _minimize_dogleg(fun, x0, args, jac, hess,\n\u001b[32m    758\u001b[39m                                callback=callback, **options)\n\u001b[32m    759\u001b[39m     \u001b[38;5;28;01melif\u001b[39;00m meth == \u001b[33m'trust-ncg'\u001b[39m:\n\u001b[32m--> \u001b[39m\u001b[32m760\u001b[39m         res = _minimize_trust_ncg(fun, x0, args, jac, hess, hessp,\n\u001b[32m    761\u001b[39m                                   callback=callback, **options)\n\u001b[32m    762\u001b[39m     \u001b[38;5;28;01melif\u001b[39;00m meth == \u001b[33m'trust-krylov'\u001b[39m:\n\u001b[32m    763\u001b[39m         res = _minimize_trust_krylov(fun, x0, args, jac, hess, hessp,\n",
      "\u001b[32m~/Documents/openff/besmarts-smee-refit/.soap/examples/lib/python3.11/site-packages/scipy/optimize/_trustregion_ncg.py\u001b[39m in \u001b[36m?\u001b[39m\u001b[34m(fun, x0, args, jac, hess, hessp, **trust_region_options)\u001b[39m\n\u001b[32m     33\u001b[39m                          'minimization')\n\u001b[32m     34\u001b[39m     \u001b[38;5;28;01mif\u001b[39;00m hess \u001b[38;5;28;01mis\u001b[39;00m \u001b[38;5;28;01mNone\u001b[39;00m \u001b[38;5;28;01mand\u001b[39;00m hessp \u001b[38;5;28;01mis\u001b[39;00m \u001b[38;5;28;01mNone\u001b[39;00m:\n\u001b[32m     35\u001b[39m         raise ValueError('Either the Hessian or the Hessian-vector product '\n\u001b[32m     36\u001b[39m                          'is required for Newton-CG trust-region minimization')\n\u001b[32m---> \u001b[39m\u001b[32m37\u001b[39m     return _minimize_trust_region(fun, x0, args=args, jac=jac, hess=hess,\n\u001b[32m     38\u001b[39m                                   hessp=hessp, subproblem=CGSteihaugSubproblem,\n\u001b[32m     39\u001b[39m                                   **trust_region_options)\n",
      "\u001b[32m~/Documents/openff/besmarts-smee-refit/.soap/examples/lib/python3.11/site-packages/scipy/optimize/_trustregion.py\u001b[39m in \u001b[36m?\u001b[39m\u001b[34m(fun, x0, args, jac, hess, hessp, subproblem, initial_trust_radius, max_trust_radius, eta, gtol, maxiter, disp, return_all, callback, inexact, **unknown_options)\u001b[39m\n\u001b[32m    171\u001b[39m     x0 = np.asarray(x0).flatten()\n\u001b[32m    172\u001b[39m \n\u001b[32m    173\u001b[39m     \u001b[38;5;66;03m# A ScalarFunction representing the problem. This caches calls to fun, jac,\u001b[39;00m\n\u001b[32m    174\u001b[39m     \u001b[38;5;66;03m# hess.\u001b[39;00m\n\u001b[32m--> \u001b[39m\u001b[32m175\u001b[39m     sf = _prepare_scalar_function(fun, x0, jac=jac, hess=hess, args=args)\n\u001b[32m    176\u001b[39m     fun = sf.fun\n\u001b[32m    177\u001b[39m     jac = sf.grad\n\u001b[32m    178\u001b[39m     \u001b[38;5;28;01mif\u001b[39;00m callable(hess):\n",
      "\u001b[32m~/Documents/openff/besmarts-smee-refit/.soap/examples/lib/python3.11/site-packages/scipy/optimize/_optimize.py\u001b[39m in \u001b[36m?\u001b[39m\u001b[34m(fun, x0, jac, args, bounds, epsilon, finite_diff_rel_step, hess)\u001b[39m\n\u001b[32m    287\u001b[39m         bounds = (-np.inf, np.inf)\n\u001b[32m    288\u001b[39m \n\u001b[32m    289\u001b[39m     \u001b[38;5;66;03m# ScalarFunction caches. Reuse of fun(x) during grad\u001b[39;00m\n\u001b[32m    290\u001b[39m     \u001b[38;5;66;03m# calculation reduces overall function evaluations.\u001b[39;00m\n\u001b[32m--> \u001b[39m\u001b[32m291\u001b[39m     sf = ScalarFunction(fun, x0, args, grad, hess,\n\u001b[32m    292\u001b[39m                         finite_diff_rel_step, bounds, epsilon=epsilon)\n\u001b[32m    293\u001b[39m \n\u001b[32m    294\u001b[39m     \u001b[38;5;28;01mreturn\u001b[39;00m sf\n",
      "\u001b[32m~/Documents/openff/besmarts-smee-refit/.soap/examples/lib/python3.11/site-packages/scipy/optimize/_differentiable_functions.py\u001b[39m in \u001b[36m?\u001b[39m\u001b[34m(self, fun, x0, args, grad, hess, finite_diff_rel_step, finite_diff_bounds, epsilon)\u001b[39m\n\u001b[32m    219\u001b[39m             finite_diff_options[\u001b[33m\"abs_step\"\u001b[39m] = epsilon\n\u001b[32m    220\u001b[39m             finite_diff_options[\u001b[33m\"as_linear_operator\"\u001b[39m] = \u001b[38;5;28;01mTrue\u001b[39;00m\n\u001b[32m    221\u001b[39m \n\u001b[32m    222\u001b[39m         \u001b[38;5;66;03m# Initial function evaluation\u001b[39;00m\n\u001b[32m--> \u001b[39m\u001b[32m223\u001b[39m         self._update_fun()\n\u001b[32m    224\u001b[39m \n\u001b[32m    225\u001b[39m         \u001b[38;5;66;03m# Initial gradient evaluation\u001b[39;00m\n\u001b[32m    226\u001b[39m         self._wrapped_grad, self._ngev = _wrapper_grad(\n",
      "\u001b[32m~/Documents/openff/besmarts-smee-refit/.soap/examples/lib/python3.11/site-packages/scipy/optimize/_differentiable_functions.py\u001b[39m in \u001b[36m?\u001b[39m\u001b[34m(self)\u001b[39m\n\u001b[32m    293\u001b[39m     \u001b[38;5;28;01mdef\u001b[39;00m _update_fun(self):\n\u001b[32m    294\u001b[39m         \u001b[38;5;28;01mif\u001b[39;00m \u001b[38;5;28;01mnot\u001b[39;00m self.f_updated:\n\u001b[32m--> \u001b[39m\u001b[32m295\u001b[39m             fx = self._wrapped_fun(self.x)\n\u001b[32m    296\u001b[39m             \u001b[38;5;28;01mif\u001b[39;00m fx < self._lowest_f:\n\u001b[32m    297\u001b[39m                 self._lowest_x = self.x\n\u001b[32m    298\u001b[39m                 self._lowest_f = fx\n",
      "\u001b[32m~/Documents/openff/besmarts-smee-refit/.soap/examples/lib/python3.11/site-packages/scipy/optimize/_differentiable_functions.py\u001b[39m in \u001b[36m?\u001b[39m\u001b[34m(x)\u001b[39m\n\u001b[32m     17\u001b[39m         ncalls[\u001b[32m0\u001b[39m] += \u001b[32m1\u001b[39m\n\u001b[32m     18\u001b[39m         \u001b[38;5;66;03m# Send a copy because the user may overwrite it.\u001b[39;00m\n\u001b[32m     19\u001b[39m         \u001b[38;5;66;03m# Overwriting results in undefined behaviour because\u001b[39;00m\n\u001b[32m     20\u001b[39m         \u001b[38;5;66;03m# fun(self.x) will change self.x, with the two no longer linked.\u001b[39;00m\n\u001b[32m---> \u001b[39m\u001b[32m21\u001b[39m         fx = fun(np.copy(x), *args)\n\u001b[32m     22\u001b[39m         \u001b[38;5;66;03m# Make sure the function returns a true scalar\u001b[39;00m\n\u001b[32m     23\u001b[39m         \u001b[38;5;28;01mif\u001b[39;00m \u001b[38;5;28;01mnot\u001b[39;00m np.isscalar(fx):\n\u001b[32m     24\u001b[39m             \u001b[38;5;28;01mtry\u001b[39;00m:\n",
      "\u001b[32m~/Documents/openff/besmarts-smee-refit/.soap/examples/lib/python3.11/site-packages/scipy/optimize/_optimize.py\u001b[39m in \u001b[36m?\u001b[39m\u001b[34m(self, x, *args)\u001b[39m\n\u001b[32m     78\u001b[39m     \u001b[38;5;28;01mdef\u001b[39;00m __call__(self, x, *args):\n\u001b[32m     79\u001b[39m         \u001b[33m\"\"\" returns the function value \"\"\"\u001b[39m\n\u001b[32m---> \u001b[39m\u001b[32m80\u001b[39m         self._compute_if_needed(x, *args)\n\u001b[32m     81\u001b[39m         \u001b[38;5;28;01mreturn\u001b[39;00m self._value\n",
      "\u001b[32m~/Documents/openff/besmarts-smee-refit/.soap/examples/lib/python3.11/site-packages/scipy/optimize/_optimize.py\u001b[39m in \u001b[36m?\u001b[39m\u001b[34m(self, x, *args)\u001b[39m\n\u001b[32m     71\u001b[39m     \u001b[38;5;28;01mdef\u001b[39;00m _compute_if_needed(self, x, *args):\n\u001b[32m     72\u001b[39m         \u001b[38;5;28;01mif\u001b[39;00m \u001b[38;5;28;01mnot\u001b[39;00m np.all(x == self.x) \u001b[38;5;28;01mor\u001b[39;00m self._value \u001b[38;5;28;01mis\u001b[39;00m \u001b[38;5;28;01mNone\u001b[39;00m \u001b[38;5;28;01mor\u001b[39;00m self.jac \u001b[38;5;28;01mis\u001b[39;00m \u001b[38;5;28;01mNone\u001b[39;00m:\n\u001b[32m     73\u001b[39m             self.x = np.asarray(x).copy()\n\u001b[32m---> \u001b[39m\u001b[32m74\u001b[39m             fg = self.fun(x, *args)\n\u001b[32m     75\u001b[39m             self.jac = fg[\u001b[32m1\u001b[39m]\n\u001b[32m     76\u001b[39m             self._value = fg[\u001b[32m0\u001b[39m]\n",
      "\u001b[32m~/Documents/openff/besmarts/besmarts-scipy/python/besmarts/mechanics/optimizers_scipy.py\u001b[39m in \u001b[36m?\u001b[39m\u001b[34m(args, keys, csys, gdb, obj, priors, penalties, history, psysref, reuse, ws, verbose, minstep)\u001b[39m\n\u001b[32m   1056\u001b[39m             print(out[-\u001b[32m1\u001b[39m])\n\u001b[32m   1057\u001b[39m \n\u001b[32m   1058\u001b[39m         mm.chemical_system_set_value(csys, k, v1)\n\u001b[32m   1059\u001b[39m \n\u001b[32m-> \u001b[39m\u001b[32m1060\u001b[39m     X, g = objective_gradient_gdb(\n\u001b[32m   1061\u001b[39m         args,\n\u001b[32m   1062\u001b[39m         keys,\n\u001b[32m   1063\u001b[39m         csys,\n",
      "\u001b[32m~/Documents/openff/besmarts/besmarts-scipy/python/besmarts/mechanics/optimizers_scipy.py\u001b[39m in \u001b[36m?\u001b[39m\u001b[34m(args, keys, csys, gdb, objbatches, priors, penalties, history, psysref, reuse, ws, verbose, minstep, return_gradient)\u001b[39m\n\u001b[32m    669\u001b[39m \n\u001b[32m    670\u001b[39m         \u001b[38;5;28;01melse\u001b[39;00m:\n\u001b[32m    671\u001b[39m             \u001b[38;5;28;01mfor\u001b[39;00m i, task \u001b[38;5;28;01min\u001b[39;00m tasks.items():\n\u001b[32m    672\u001b[39m \n\u001b[32m--> \u001b[39m\u001b[32m673\u001b[39m                 new_results= {i: task.run()}\n\u001b[32m    674\u001b[39m \n\u001b[32m    675\u001b[39m                 ready, full_results = collect(\n\u001b[32m    676\u001b[39m                     gdb,\n",
      "\u001b[32m~/Documents/openff/besmarts/besmarts-mechanics/python/besmarts/mechanics/fits.py\u001b[39m in \u001b[36m?\u001b[39m\u001b[34m(self)\u001b[39m\n\u001b[32m    711\u001b[39m                 \u001b[38;5;66;03m# print(\"\\n\".join(print_xyz(pos0)))\u001b[39;00m\n\u001b[32m    712\u001b[39m \n\u001b[32m    713\u001b[39m                 opt = optimizers_openmm.optimize_positions_openmm\n\u001b[32m    714\u001b[39m                 \u001b[38;5;66;03m# opt = optimizers_scipy.optimize_positions_scipy\u001b[39;00m\n\u001b[32m--> \u001b[39m\u001b[32m715\u001b[39m                 pos = opt(\n\u001b[32m    716\u001b[39m                     csys,\n\u001b[32m    717\u001b[39m                     psys,\n\u001b[32m    718\u001b[39m                     step_limit=self.step_limit,\n",
      "\u001b[32m~/Documents/openff/besmarts/besmarts-openmm/python/besmarts/mechanics/optimizers_openmm.py\u001b[39m in \u001b[36m?\u001b[39m\u001b[34m(csys, psys, step_limit, tol)\u001b[39m\n\u001b[32m    129\u001b[39m     step_limit=\u001b[32m5000\u001b[39m,\n\u001b[32m    130\u001b[39m     tol=\u001b[32m1e-10\u001b[39m\n\u001b[32m    131\u001b[39m ):\n\u001b[32m    132\u001b[39m \n\u001b[32m--> \u001b[39m\u001b[32m133\u001b[39m     sim = physical_system_to_openmm_system(psys)\n\u001b[32m    134\u001b[39m     \u001b[38;5;66;03m# print(\"PSYS ENERGY:\", objectives.physical_system_energy(psys, csys))\u001b[39;00m\n\u001b[32m    135\u001b[39m     sim.minimizeEnergy(tolerance=tol, maxIterations=step_limit)\n\u001b[32m    136\u001b[39m     state = sim.context.getState(getPositions=\u001b[38;5;28;01mTrue\u001b[39;00m)\n",
      "\u001b[32m~/Documents/openff/besmarts/besmarts-openmm/python/besmarts/mechanics/optimizers_openmm.py\u001b[39m in \u001b[36m?\u001b[39m\u001b[34m(psys)\u001b[39m\n\u001b[32m     49\u001b[39m     frc, a_map = assign_angles(psys, atom_map)\n\u001b[32m     50\u001b[39m     system.addForce(frc)\n\u001b[32m     51\u001b[39m \n\u001b[32m     52\u001b[39m     \u001b[38;5;66;03m# print(\"Torsions...\")\u001b[39;00m\n\u001b[32m---> \u001b[39m\u001b[32m53\u001b[39m     frc, t_map = assign_torsions(psys, atom_map)\n\u001b[32m     54\u001b[39m     system.addForce(frc)\n\u001b[32m     55\u001b[39m \n\u001b[32m     56\u001b[39m     \u001b[38;5;66;03m# print(\"OOP...\")\u001b[39;00m\n",
      "\u001b[32m~/Documents/openff/besmarts/besmarts-openmm/python/besmarts/mechanics/optimizers_openmm.py\u001b[39m in \u001b[36m?\u001b[39m\u001b[34m(psys, atom_map)\u001b[39m\n\u001b[32m    410\u001b[39m                 vals = pm.values[\u001b[32m0\u001b[39m].get(i)\n\u001b[32m    411\u001b[39m                 \u001b[38;5;28;01mif\u001b[39;00m vals:\n\u001b[32m    412\u001b[39m                     \u001b[38;5;28;01mfor\u001b[39;00m n, p, k \u001b[38;5;28;01min\u001b[39;00m zip(vals[\u001b[33m'n'\u001b[39m], vals[\u001b[33m'p'\u001b[39m], vals[\u001b[33m'k'\u001b[39m]):\n\u001b[32m    413\u001b[39m                         \u001b[38;5;28;01mif\u001b[39;00m abs(k) > \u001b[32m1e-7\u001b[39m:\n\u001b[32m--> \u001b[39m\u001b[32m414\u001b[39m                             id_map[i] = frc.addTorsion(*ic, n, p, k * \u001b[32m4.184\u001b[39m)\n\u001b[32m    415\u001b[39m     \u001b[38;5;28;01mreturn\u001b[39;00m frc, id_map\n",
      "\u001b[32m~/Documents/openff/besmarts-smee-refit/.soap/examples/lib/python3.11/site-packages/openmm/openmm.py\u001b[39m in \u001b[36m?\u001b[39m\u001b[34m(self, particle1, particle2, particle3, particle4, periodicity, phase, k)\u001b[39m\n\u001b[32m   6152\u001b[39m         \u001b[38;5;28;01mif\u001b[39;00m unit.is_quantity(k):\n\u001b[32m   6153\u001b[39m             k = k.value_in_unit(unit.kilojoule_per_mole)\n\u001b[32m   6154\u001b[39m \n\u001b[32m   6155\u001b[39m \n\u001b[32m-> \u001b[39m\u001b[32m6156\u001b[39m         \u001b[38;5;28;01mreturn\u001b[39;00m _openmm.PeriodicTorsionForce_addTorsion(self, particle1, particle2, particle3, particle4, periodicity, phase, k)\n",
      "\u001b[31mTypeError\u001b[39m: in method 'PeriodicTorsionForce_addTorsion', argument 6 of type 'int'"
     ]
    }
   ],
   "source": [
    "from besmarts.mechanics.fits import ff_optimize\n",
    "from besmarts.core import configs\n",
    "configs.processors = 1\n",
    "configs.remote_compute_enable = False\n",
    "configs.workqueue_port = 57575\n",
    "newcsys, (P0, P), (C0, C) = ff_optimize(\n",
    "    csys0=chemical_system,\n",
    "    gdb=graph_db,\n",
    "    psystems=physical_systems,\n",
    "    strategy=fitting_strategy,\n",
    "    chemical_objective=force_field_objective,\n",
    "    initial_objective=objective_tiers[0],\n",
    "    tiers=objective_tiers[1:-1],\n",
    "    final_objective=objective_tiers[-1]\n",
    ")\n",
    "\n",
    "# This seems to break because besmarts is internally mixing up parameters and passing\n",
    "# floats to openmm"
   ]
  },
  {
   "cell_type": "code",
   "execution_count": null,
   "id": "916edf97-379b-41d7-b314-3c586f244641",
   "metadata": {
    "execution": {
     "iopub.status.busy": "2025-03-14T06:21:54.895889Z",
     "iopub.status.idle": "2025-03-14T06:21:54.896021Z",
     "shell.execute_reply": "2025-03-14T06:21:54.895965Z",
     "shell.execute_reply.started": "2025-03-14T06:21:54.895959Z"
    }
   },
   "outputs": [],
   "source": [
    "chemical_system.models[model['Torsions']]"
   ]
  },
  {
   "cell_type": "code",
   "execution_count": null,
   "id": "4359cc16-1ae9-42dd-8891-384b5e0d4739",
   "metadata": {},
   "outputs": [],
   "source": []
  },
  {
   "cell_type": "code",
   "execution_count": null,
   "id": "c05b66ae-d44b-446e-9b34-f6611c1a3c60",
   "metadata": {
    "execution": {
     "iopub.status.busy": "2025-03-14T06:21:54.896281Z",
     "iopub.status.idle": "2025-03-14T06:21:54.896406Z",
     "shell.execute_reply": "2025-03-14T06:21:54.896344Z",
     "shell.execute_reply.started": "2025-03-14T06:21:54.896338Z"
    },
    "scrolled": true
   },
   "outputs": [],
   "source": [
    "chemical_system.models[model[\"Torsions\"]].topology_terms['n'].values"
   ]
  },
  {
   "cell_type": "code",
   "execution_count": null,
   "id": "ac1c0e91-dc48-401c-bb2d-08c02fa0f249",
   "metadata": {
    "execution": {
     "iopub.status.busy": "2025-03-14T06:21:54.896789Z",
     "iopub.status.idle": "2025-03-14T06:21:54.896902Z",
     "shell.execute_reply": "2025-03-14T06:21:54.896850Z",
     "shell.execute_reply.started": "2025-03-14T06:21:54.896844Z"
    },
    "scrolled": true
   },
   "outputs": [],
   "source": [
    "chemical_system.models[model[\"Torsions\"]].procedures[0].smarts_hierarchies[0].smarts"
   ]
  },
  {
   "cell_type": "code",
   "execution_count": null,
   "id": "e05f4421-431d-4506-9856-f71bd1f46aa9",
   "metadata": {
    "execution": {
     "iopub.status.busy": "2025-03-14T06:21:54.897183Z",
     "iopub.status.idle": "2025-03-14T06:21:54.897352Z",
     "shell.execute_reply": "2025-03-14T06:21:54.897299Z",
     "shell.execute_reply.started": "2025-03-14T06:21:54.897294Z"
    }
   },
   "outputs": [],
   "source": [
    "{i: model for i, model in enumerate(physical_systems[0].models)}"
   ]
  },
  {
   "cell_type": "code",
   "execution_count": null,
   "id": "1fec6a13-d9dd-4125-b704-7d4cca197641",
   "metadata": {
    "execution": {
     "iopub.status.busy": "2025-03-14T06:21:54.897682Z",
     "iopub.status.idle": "2025-03-14T06:21:54.897840Z",
     "shell.execute_reply": "2025-03-14T06:21:54.897765Z",
     "shell.execute_reply.started": "2025-03-14T06:21:54.897758Z"
    }
   },
   "outputs": [],
   "source": [
    "psys=physical_systems[0]\n",
    "pmodel = psys.models[model[\"Torsions\"]]"
   ]
  },
  {
   "cell_type": "code",
   "execution_count": null,
   "id": "677b8543-c009-424d-b2ba-403f67cf0bdf",
   "metadata": {
    "execution": {
     "iopub.status.busy": "2025-03-14T06:21:54.898151Z",
     "iopub.status.idle": "2025-03-14T06:21:54.898260Z",
     "shell.execute_reply": "2025-03-14T06:21:54.898211Z",
     "shell.execute_reply.started": "2025-03-14T06:21:54.898206Z"
    },
    "scrolled": true
   },
   "outputs": [],
   "source": [
    "pmodel.values"
   ]
  },
  {
   "cell_type": "code",
   "execution_count": null,
   "id": "5e85dd09-2329-4920-9e91-e7e807cf7a51",
   "metadata": {
    "execution": {
     "iopub.status.busy": "2025-03-14T06:21:54.898595Z",
     "iopub.status.idle": "2025-03-14T06:21:54.898700Z",
     "shell.execute_reply": "2025-03-14T06:21:54.898651Z",
     "shell.execute_reply.started": "2025-03-14T06:21:54.898646Z"
    }
   },
   "outputs": [],
   "source": [
    "for psys in physical_systems.values():\n",
    "    pmodel = psys.models[model[\"Torsions\"]]\n",
    "    for d in pmodel.values:\n",
    "        for v in d.values():\n",
    "            for n in v['n']:\n",
    "                assert isinstance(n, int), n\n",
    "                assert n > 0, n"
   ]
  },
  {
   "cell_type": "code",
   "execution_count": null,
   "id": "84b6898a-0bf3-4387-81d8-5089f47cb933",
   "metadata": {},
   "outputs": [],
   "source": []
  },
  {
   "cell_type": "code",
   "execution_count": null,
   "id": "578d2461-2a38-49c6-94e6-3f312c400a49",
   "metadata": {
    "execution": {
     "iopub.status.busy": "2025-03-14T06:21:54.898941Z",
     "iopub.status.idle": "2025-03-14T06:21:54.899049Z",
     "shell.execute_reply": "2025-03-14T06:21:54.898997Z",
     "shell.execute_reply.started": "2025-03-14T06:21:54.898992Z"
    }
   },
   "outputs": [],
   "source": [
    "from besmarts.mechanics.fits import generate_candidates\n"
   ]
  },
  {
   "cell_type": "code",
   "execution_count": null,
   "id": "a0162f67-f98a-4e5c-a2b6-1ac6287d03b3",
   "metadata": {
    "execution": {
     "iopub.status.busy": "2025-03-14T06:21:54.899350Z",
     "iopub.status.idle": "2025-03-14T06:21:54.899469Z",
     "shell.execute_reply": "2025-03-14T06:21:54.899416Z",
     "shell.execute_reply.started": "2025-03-14T06:21:54.899410Z"
    }
   },
   "outputs": [],
   "source": [
    "physical_systems"
   ]
  },
  {
   "cell_type": "code",
   "execution_count": 20,
   "id": "f463d8aa-37d8-40fc-8ea5-396f0d22bfba",
   "metadata": {
    "execution": {
     "iopub.execute_input": "2025-03-14T06:45:51.630537Z",
     "iopub.status.busy": "2025-03-14T06:45:51.630265Z",
     "iopub.status.idle": "2025-03-14T06:45:51.668193Z",
     "shell.execute_reply": "2025-03-14T06:45:51.667859Z",
     "shell.execute_reply.started": "2025-03-14T06:45:51.630526Z"
    }
   },
   "outputs": [
    {
     "name": "stderr",
     "output_type": "stream",
     "text": [
      "/tmp/ipykernel_1909794/3315764551.py:3: AtomMappingWarning: Warning! Fully mapped SMILES pattern passed to `from_smiles`. The atom map is stored as a property in `Molecule._properties`, but these indices are NOT used to determine atom ordering. To use these indices for atom ordering, use `Molecule.from_mapped_smiles`.\n",
      "  Molecule.from_smiles(opt_dataset[0]['smiles']).visualize('rdkit')\n"
     ]
    },
    {
     "data": {
      "image/svg+xml": [
       "<svg xmlns=\"http://www.w3.org/2000/svg\" xmlns:rdkit=\"http://www.rdkit.org/xml\" xmlns:xlink=\"http://www.w3.org/1999/xlink\" version=\"1.1\" baseProfile=\"full\" xml:space=\"preserve\" width=\"500px\" height=\"300px\" viewBox=\"0 0 500 300\">\n",
       "<!-- END OF HEADER -->\n",
       "<rect style=\"opacity:1.0;fill:#FFFFFF;stroke:none\" width=\"500.0\" height=\"300.0\" x=\"0.0\" y=\"0.0\"> </rect>\n",
       "<path class=\"bond-0 atom-0 atom-1\" d=\"M 300.6,118.7 L 269.7,119.7\" style=\"fill:none;fill-rule:evenodd;stroke:#000000;stroke-width:2.0px;stroke-linecap:butt;stroke-linejoin:miter;stroke-opacity:1\"/>\n",
       "<path class=\"bond-1 atom-1 atom-2\" d=\"M 269.7,119.7 L 244.9,89.2\" style=\"fill:none;fill-rule:evenodd;stroke:#000000;stroke-width:2.0px;stroke-linecap:butt;stroke-linejoin:miter;stroke-opacity:1\"/>\n",
       "<path class=\"bond-1 atom-1 atom-2\" d=\"M 262.8,120.0 L 243.1,95.9\" style=\"fill:none;fill-rule:evenodd;stroke:#000000;stroke-width:2.0px;stroke-linecap:butt;stroke-linejoin:miter;stroke-opacity:1\"/>\n",
       "<path class=\"bond-2 atom-2 atom-3\" d=\"M 244.9,89.2 L 230.4,94.8\" style=\"fill:none;fill-rule:evenodd;stroke:#000000;stroke-width:2.0px;stroke-linecap:butt;stroke-linejoin:miter;stroke-opacity:1\"/>\n",
       "<path class=\"bond-2 atom-2 atom-3\" d=\"M 230.4,94.8 L 215.8,100.3\" style=\"fill:none;fill-rule:evenodd;stroke:#0000FF;stroke-width:2.0px;stroke-linecap:butt;stroke-linejoin:miter;stroke-opacity:1\"/>\n",
       "<path class=\"bond-3 atom-3 atom-4\" d=\"M 208.8,112.8 L 209.9,132.8\" style=\"fill:none;fill-rule:evenodd;stroke:#0000FF;stroke-width:2.0px;stroke-linecap:butt;stroke-linejoin:miter;stroke-opacity:1\"/>\n",
       "<path class=\"bond-4 atom-4 atom-5\" d=\"M 218.0,144.3 L 233.3,148.4\" style=\"fill:none;fill-rule:evenodd;stroke:#0000FF;stroke-width:2.0px;stroke-linecap:butt;stroke-linejoin:miter;stroke-opacity:1\"/>\n",
       "<path class=\"bond-4 atom-4 atom-5\" d=\"M 233.3,148.4 L 248.6,152.5\" style=\"fill:none;fill-rule:evenodd;stroke:#000000;stroke-width:2.0px;stroke-linecap:butt;stroke-linejoin:miter;stroke-opacity:1\"/>\n",
       "<path class=\"bond-4 atom-4 atom-5\" d=\"M 219.4,138.9 L 232.7,142.5\" style=\"fill:none;fill-rule:evenodd;stroke:#0000FF;stroke-width:2.0px;stroke-linecap:butt;stroke-linejoin:miter;stroke-opacity:1\"/>\n",
       "<path class=\"bond-4 atom-4 atom-5\" d=\"M 232.7,142.5 L 246.1,146.0\" style=\"fill:none;fill-rule:evenodd;stroke:#000000;stroke-width:2.0px;stroke-linecap:butt;stroke-linejoin:miter;stroke-opacity:1\"/>\n",
       "<path class=\"bond-5 atom-5 atom-6\" d=\"M 248.6,152.5 L 251.5,185.9\" style=\"fill:none;fill-rule:evenodd;stroke:#000000;stroke-width:2.0px;stroke-linecap:butt;stroke-linejoin:miter;stroke-opacity:1\"/>\n",
       "<path class=\"bond-6 atom-6 atom-7\" d=\"M 251.5,185.9 L 289.4,203.1\" style=\"fill:none;fill-rule:evenodd;stroke:#000000;stroke-width:2.0px;stroke-linecap:butt;stroke-linejoin:miter;stroke-opacity:1\"/>\n",
       "<path class=\"bond-7 atom-7 atom-8\" d=\"M 289.4,203.1 L 270.9,242.1\" style=\"fill:none;fill-rule:evenodd;stroke:#000000;stroke-width:2.0px;stroke-linecap:butt;stroke-linejoin:miter;stroke-opacity:1\"/>\n",
       "<path class=\"bond-8 atom-8 atom-9\" d=\"M 270.9,242.1 L 209.1,218.1\" style=\"fill:none;fill-rule:evenodd;stroke:#000000;stroke-width:2.0px;stroke-linecap:butt;stroke-linejoin:miter;stroke-opacity:1\"/>\n",
       "<path class=\"bond-9 atom-9 atom-10\" d=\"M 209.1,218.1 L 207.6,251.2\" style=\"fill:none;fill-rule:evenodd;stroke:#000000;stroke-width:2.0px;stroke-linecap:butt;stroke-linejoin:miter;stroke-opacity:1\"/>\n",
       "<path class=\"bond-10 atom-9 atom-11\" d=\"M 209.1,218.1 L 200.6,214.4\" style=\"fill:none;fill-rule:evenodd;stroke:#000000;stroke-width:2.0px;stroke-linecap:butt;stroke-linejoin:miter;stroke-opacity:1\"/>\n",
       "<path class=\"bond-11 atom-8 atom-12\" d=\"M 270.9,242.1 L 256.8,218.1\" style=\"fill:none;fill-rule:evenodd;stroke:#000000;stroke-width:2.0px;stroke-linecap:butt;stroke-linejoin:miter;stroke-opacity:1\"/>\n",
       "<path class=\"bond-12 atom-12 atom-13\" d=\"M 256.8,218.1 L 253.9,217.3\" style=\"fill:none;fill-rule:evenodd;stroke:#000000;stroke-width:2.0px;stroke-linecap:butt;stroke-linejoin:miter;stroke-opacity:1\"/>\n",
       "<path class=\"bond-13 atom-12 atom-14\" d=\"M 256.8,218.1 L 254.7,216.6\" style=\"fill:none;fill-rule:evenodd;stroke:#000000;stroke-width:2.0px;stroke-linecap:butt;stroke-linejoin:miter;stroke-opacity:1\"/>\n",
       "<path class=\"bond-14 atom-8 atom-15\" d=\"M 270.9,242.1 L 285.9,267.1\" style=\"fill:none;fill-rule:evenodd;stroke:#000000;stroke-width:2.0px;stroke-linecap:butt;stroke-linejoin:miter;stroke-opacity:1\"/>\n",
       "<path class=\"bond-15 atom-7 atom-16\" d=\"M 289.4,203.1 L 302.2,177.3\" style=\"fill:none;fill-rule:evenodd;stroke:#000000;stroke-width:2.0px;stroke-linecap:butt;stroke-linejoin:miter;stroke-opacity:1\"/>\n",
       "<path class=\"bond-16 atom-7 atom-17\" d=\"M 289.4,203.1 L 316.9,216.8\" style=\"fill:none;fill-rule:evenodd;stroke:#000000;stroke-width:2.0px;stroke-linecap:butt;stroke-linejoin:miter;stroke-opacity:1\"/>\n",
       "<path class=\"bond-17 atom-3 atom-18\" d=\"M 200.7,98.1 L 191.9,92.3\" style=\"fill:none;fill-rule:evenodd;stroke:#0000FF;stroke-width:2.0px;stroke-linecap:butt;stroke-linejoin:miter;stroke-opacity:1\"/>\n",
       "<path class=\"bond-17 atom-3 atom-18\" d=\"M 191.9,92.3 L 183.1,86.4\" style=\"fill:none;fill-rule:evenodd;stroke:#000000;stroke-width:2.0px;stroke-linecap:butt;stroke-linejoin:miter;stroke-opacity:1\"/>\n",
       "<path class=\"bond-18 atom-2 atom-19\" d=\"M 244.9,89.2 L 249.1,75.4\" style=\"fill:none;fill-rule:evenodd;stroke:#000000;stroke-width:2.0px;stroke-linecap:butt;stroke-linejoin:miter;stroke-opacity:1\"/>\n",
       "<path class=\"bond-18 atom-2 atom-19\" d=\"M 249.1,75.4 L 253.3,61.6\" style=\"fill:none;fill-rule:evenodd;stroke:#0000FF;stroke-width:2.0px;stroke-linecap:butt;stroke-linejoin:miter;stroke-opacity:1\"/>\n",
       "<path class=\"bond-19 atom-19 atom-20\" d=\"M 263.7,50.4 L 275.3,47.9\" style=\"fill:none;fill-rule:evenodd;stroke:#0000FF;stroke-width:2.0px;stroke-linecap:butt;stroke-linejoin:miter;stroke-opacity:1\"/>\n",
       "<path class=\"bond-19 atom-19 atom-20\" d=\"M 275.3,47.9 L 286.9,45.3\" style=\"fill:none;fill-rule:evenodd;stroke:#000000;stroke-width:2.0px;stroke-linecap:butt;stroke-linejoin:miter;stroke-opacity:1\"/>\n",
       "<path class=\"bond-20 atom-19 atom-21\" d=\"M 248.6,43.8 L 243.1,37.8\" style=\"fill:none;fill-rule:evenodd;stroke:#0000FF;stroke-width:2.0px;stroke-linecap:butt;stroke-linejoin:miter;stroke-opacity:1\"/>\n",
       "<path class=\"bond-20 atom-19 atom-21\" d=\"M 243.1,37.8 L 237.6,31.8\" style=\"fill:none;fill-rule:evenodd;stroke:#000000;stroke-width:2.0px;stroke-linecap:butt;stroke-linejoin:miter;stroke-opacity:1\"/>\n",
       "<path class=\"bond-21 atom-5 atom-1\" d=\"M 248.6,152.5 L 269.7,119.7\" style=\"fill:none;fill-rule:evenodd;stroke:#000000;stroke-width:2.0px;stroke-linecap:butt;stroke-linejoin:miter;stroke-opacity:1\"/>\n",
       "<path class=\"bond-22 atom-9 atom-6\" d=\"M 209.1,218.1 L 251.5,185.9\" style=\"fill:none;fill-rule:evenodd;stroke:#000000;stroke-width:2.0px;stroke-linecap:butt;stroke-linejoin:miter;stroke-opacity:1\"/>\n",
       "<path class=\"bond-23 atom-12 atom-6\" d=\"M 256.8,218.1 L 251.5,185.9\" style=\"fill:none;fill-rule:evenodd;stroke:#000000;stroke-width:2.0px;stroke-linecap:butt;stroke-linejoin:miter;stroke-opacity:1\"/>\n",
       "<path class=\"atom-0\" d=\"M 301.8 110.2 L 304.1 110.2 L 304.1 117.3 L 312.6 117.3 L 312.6 110.2 L 314.9 110.2 L 314.9 126.8 L 312.6 126.8 L 312.6 119.1 L 304.1 119.1 L 304.1 126.8 L 301.8 126.8 L 301.8 110.2 \" fill=\"#000000\"/>\n",
       "<path class=\"atom-3\" d=\"M 204.6 94.9 L 210.0 103.7 Q 210.6 104.6, 211.4 106.1 Q 212.3 107.7, 212.4 107.8 L 212.4 94.9 L 214.6 94.9 L 214.6 111.5 L 212.3 111.5 L 206.4 101.9 Q 205.8 100.7, 205.0 99.5 Q 204.3 98.2, 204.1 97.8 L 204.1 111.5 L 201.9 111.5 L 201.9 94.9 L 204.6 94.9 \" fill=\"#0000FF\"/>\n",
       "<path class=\"atom-4\" d=\"M 206.7 134.0 L 212.2 142.8 Q 212.7 143.7, 213.6 145.3 Q 214.5 146.8, 214.5 146.9 L 214.5 134.0 L 216.7 134.0 L 216.7 150.6 L 214.5 150.6 L 208.6 141.0 Q 207.9 139.9, 207.2 138.6 Q 206.5 137.3, 206.3 136.9 L 206.3 150.6 L 204.1 150.6 L 204.1 134.0 L 206.7 134.0 \" fill=\"#0000FF\"/>\n",
       "<path class=\"atom-10\" d=\"M 200.7 252.4 L 203.0 252.4 L 203.0 259.5 L 211.5 259.5 L 211.5 252.4 L 213.7 252.4 L 213.7 269.1 L 211.5 269.1 L 211.5 261.4 L 203.0 261.4 L 203.0 269.1 L 200.7 269.1 L 200.7 252.4 \" fill=\"#000000\"/>\n",
       "<path class=\"atom-11\" d=\"M 186.3 202.8 L 188.6 202.8 L 188.6 209.8 L 197.1 209.8 L 197.1 202.8 L 199.4 202.8 L 199.4 219.4 L 197.1 219.4 L 197.1 211.7 L 188.6 211.7 L 188.6 219.4 L 186.3 219.4 L 186.3 202.8 \" fill=\"#000000\"/>\n",
       "<path class=\"atom-13\" d=\"M 239.6 206.8 L 241.9 206.8 L 241.9 213.9 L 250.4 213.9 L 250.4 206.8 L 252.6 206.8 L 252.6 223.5 L 250.4 223.5 L 250.4 215.8 L 241.9 215.8 L 241.9 223.5 L 239.6 223.5 L 239.6 206.8 \" fill=\"#000000\"/>\n",
       "<path class=\"atom-14\" d=\"M 240.4 202.7 L 242.7 202.7 L 242.7 209.7 L 251.2 209.7 L 251.2 202.7 L 253.5 202.7 L 253.5 219.3 L 251.2 219.3 L 251.2 211.6 L 242.7 211.6 L 242.7 219.3 L 240.4 219.3 L 240.4 202.7 \" fill=\"#000000\"/>\n",
       "<path class=\"atom-15\" d=\"M 285.1 268.3 L 287.3 268.3 L 287.3 275.4 L 295.8 275.4 L 295.8 268.3 L 298.1 268.3 L 298.1 285.0 L 295.8 285.0 L 295.8 277.3 L 287.3 277.3 L 287.3 285.0 L 285.1 285.0 L 285.1 268.3 \" fill=\"#000000\"/>\n",
       "<path class=\"atom-16\" d=\"M 300.4 159.4 L 302.7 159.4 L 302.7 166.5 L 311.2 166.5 L 311.2 159.4 L 313.5 159.4 L 313.5 176.1 L 311.2 176.1 L 311.2 168.4 L 302.7 168.4 L 302.7 176.1 L 300.4 176.1 L 300.4 159.4 \" fill=\"#000000\"/>\n",
       "<path class=\"atom-17\" d=\"M 318.1 212.3 L 320.4 212.3 L 320.4 219.4 L 328.9 219.4 L 328.9 212.3 L 331.1 212.3 L 331.1 229.0 L 328.9 229.0 L 328.9 221.3 L 320.4 221.3 L 320.4 229.0 L 318.1 229.0 L 318.1 212.3 \" fill=\"#000000\"/>\n",
       "<path class=\"atom-18\" d=\"M 168.9 72.9 L 171.1 72.9 L 171.1 80.0 L 179.6 80.0 L 179.6 72.9 L 181.9 72.9 L 181.9 89.5 L 179.6 89.5 L 179.6 81.8 L 171.1 81.8 L 171.1 89.5 L 168.9 89.5 L 168.9 72.9 \" fill=\"#000000\"/>\n",
       "<path class=\"atom-19\" d=\"M 252.5 43.7 L 257.9 52.5 Q 258.5 53.4, 259.3 55.0 Q 260.2 56.6, 260.2 56.7 L 260.2 43.7 L 262.5 43.7 L 262.5 60.4 L 260.2 60.4 L 254.3 50.7 Q 253.6 49.6, 252.9 48.3 Q 252.2 47.0, 252.0 46.6 L 252.0 60.4 L 249.8 60.4 L 249.8 43.7 L 252.5 43.7 \" fill=\"#0000FF\"/>\n",
       "<path class=\"atom-20\" d=\"M 288.1 35.3 L 290.4 35.3 L 290.4 42.4 L 298.9 42.4 L 298.9 35.3 L 301.1 35.3 L 301.1 52.0 L 298.9 52.0 L 298.9 44.3 L 290.4 44.3 L 290.4 52.0 L 288.1 52.0 L 288.1 35.3 \" fill=\"#000000\"/>\n",
       "<path class=\"atom-21\" d=\"M 223.3 15.0 L 225.6 15.0 L 225.6 22.1 L 234.1 22.1 L 234.1 15.0 L 236.3 15.0 L 236.3 31.7 L 234.1 31.7 L 234.1 24.0 L 225.6 24.0 L 225.6 31.7 L 223.3 31.7 L 223.3 15.0 \" fill=\"#000000\"/>\n",
       "</svg>"
      ],
      "text/plain": [
       "<IPython.core.display.SVG object>"
      ]
     },
     "execution_count": 20,
     "metadata": {},
     "output_type": "execute_result"
    }
   ],
   "source": [
    "from openff.toolkit import Molecule\n",
    "\n",
    "Molecule.from_smiles(opt_dataset[0]['smiles']).visualize('rdkit')"
   ]
  },
  {
   "cell_type": "code",
   "execution_count": null,
   "id": "a878ba14-b07e-40f8-80ce-073655199a10",
   "metadata": {},
   "outputs": [],
   "source": []
  }
 ],
 "metadata": {
  "kernelspec": {
   "display_name": "Python 3 (ipykernel)",
   "language": "python",
   "name": "python3"
  },
  "language_info": {
   "codemirror_mode": {
    "name": "ipython",
    "version": 3
   },
   "file_extension": ".py",
   "mimetype": "text/x-python",
   "name": "python",
   "nbconvert_exporter": "python",
   "pygments_lexer": "ipython3",
   "version": "3.11.0"
  },
  "widgets": {
   "application/vnd.jupyter.widget-state+json": {
    "state": {},
    "version_major": 2,
    "version_minor": 0
   }
  }
 },
 "nbformat": 4,
 "nbformat_minor": 5
}
